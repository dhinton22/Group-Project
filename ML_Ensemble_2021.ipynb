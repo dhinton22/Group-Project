{
 "cells": [
  {
   "cell_type": "code",
   "execution_count": 250,
   "id": "a9a5e598",
   "metadata": {},
   "outputs": [],
   "source": [
    "import numpy as np\n",
    "import pandas as pd\n",
    "from pathlib import Path\n",
    "from collections import Counter\n",
    "import plotly.express as px\n",
    "from sklearn.preprocessing import StandardScaler, MinMaxScaler\n",
    "from sklearn.decomposition import PCA\n",
    "from sklearn.cluster import KMeans\n",
    "import hvplot.pandas\n",
    "from sklearn.metrics import balanced_accuracy_score\n",
    "from sklearn.metrics import confusion_matrix\n",
    "from imblearn.metrics import classification_report_imbalanced\n",
    "import datetime as dt"
   ]
  },
  {
   "cell_type": "code",
   "execution_count": 258,
   "id": "3730cd88",
   "metadata": {},
   "outputs": [],
   "source": [
    "columns = [\"CCN\", \"REPORT_DAT\",\"SHIFT\", \"OFFENSE\", \"METHOD\", \"VOTING_PRECINCT\", \"XBLOCK\", \"YBLOCK\",\"PSA\",\"REGION\"]\n",
    "target = [\"REGION\"]"
   ]
  },
  {
   "cell_type": "code",
   "execution_count": 260,
   "id": "a372bd95",
   "metadata": {},
   "outputs": [
    {
     "data": {
      "text/html": [
       "<div>\n",
       "<style scoped>\n",
       "    .dataframe tbody tr th:only-of-type {\n",
       "        vertical-align: middle;\n",
       "    }\n",
       "\n",
       "    .dataframe tbody tr th {\n",
       "        vertical-align: top;\n",
       "    }\n",
       "\n",
       "    .dataframe thead th {\n",
       "        text-align: right;\n",
       "    }\n",
       "</style>\n",
       "<table border=\"1\" class=\"dataframe\">\n",
       "  <thead>\n",
       "    <tr style=\"text-align: right;\">\n",
       "      <th></th>\n",
       "      <th>CCN</th>\n",
       "      <th>REPORT_DAT</th>\n",
       "      <th>SHIFT</th>\n",
       "      <th>OFFENSE</th>\n",
       "      <th>METHOD</th>\n",
       "      <th>VOTING_PRECINCT</th>\n",
       "      <th>XBLOCK</th>\n",
       "      <th>YBLOCK</th>\n",
       "      <th>PSA</th>\n",
       "      <th>REGION</th>\n",
       "    </tr>\n",
       "  </thead>\n",
       "  <tbody>\n",
       "    <tr>\n",
       "      <th>0</th>\n",
       "      <td>20139232</td>\n",
       "      <td>2021/12/06 05:00:00+00</td>\n",
       "      <td>MIDNIGHT</td>\n",
       "      <td>HOMICIDE</td>\n",
       "      <td>GUN</td>\n",
       "      <td>Precinct 46</td>\n",
       "      <td>398576.16</td>\n",
       "      <td>141939.53</td>\n",
       "      <td>407.0</td>\n",
       "      <td>North</td>\n",
       "    </tr>\n",
       "    <tr>\n",
       "      <th>1</th>\n",
       "      <td>11048862</td>\n",
       "      <td>2021/10/13 21:24:42+00</td>\n",
       "      <td>EVENING</td>\n",
       "      <td>THEFT F/AUTO</td>\n",
       "      <td>OTHERS</td>\n",
       "      <td>Precinct 27</td>\n",
       "      <td>394049.03</td>\n",
       "      <td>140468.17</td>\n",
       "      <td>204.0</td>\n",
       "      <td>North</td>\n",
       "    </tr>\n",
       "    <tr>\n",
       "      <th>2</th>\n",
       "      <td>10008883</td>\n",
       "      <td>2021/08/04 20:36:50+00</td>\n",
       "      <td>EVENING</td>\n",
       "      <td>THEFT/OTHER</td>\n",
       "      <td>OTHERS</td>\n",
       "      <td>Precinct 105</td>\n",
       "      <td>406401.56</td>\n",
       "      <td>135172.74</td>\n",
       "      <td>604.0</td>\n",
       "      <td>South</td>\n",
       "    </tr>\n",
       "    <tr>\n",
       "      <th>3</th>\n",
       "      <td>11124202</td>\n",
       "      <td>2021/09/01 12:39:59+00</td>\n",
       "      <td>DAY</td>\n",
       "      <td>THEFT/OTHER</td>\n",
       "      <td>OTHERS</td>\n",
       "      <td>Precinct 77</td>\n",
       "      <td>400924.55</td>\n",
       "      <td>137563.02</td>\n",
       "      <td>506.0</td>\n",
       "      <td>North</td>\n",
       "    </tr>\n",
       "    <tr>\n",
       "      <th>4</th>\n",
       "      <td>12113231</td>\n",
       "      <td>2021/08/12 12:00:17+00</td>\n",
       "      <td>DAY</td>\n",
       "      <td>THEFT/OTHER</td>\n",
       "      <td>OTHERS</td>\n",
       "      <td>Precinct 76</td>\n",
       "      <td>401249.74</td>\n",
       "      <td>138295.18</td>\n",
       "      <td>506.0</td>\n",
       "      <td>North</td>\n",
       "    </tr>\n",
       "    <tr>\n",
       "      <th>5</th>\n",
       "      <td>15003190</td>\n",
       "      <td>2021/10/21 04:08:27+00</td>\n",
       "      <td>MIDNIGHT</td>\n",
       "      <td>THEFT F/AUTO</td>\n",
       "      <td>OTHERS</td>\n",
       "      <td>Precinct 129</td>\n",
       "      <td>397041.70</td>\n",
       "      <td>137184.93</td>\n",
       "      <td>207.0</td>\n",
       "      <td>North</td>\n",
       "    </tr>\n",
       "    <tr>\n",
       "      <th>6</th>\n",
       "      <td>21051546</td>\n",
       "      <td>2021/04/23 14:39:37+00</td>\n",
       "      <td>DAY</td>\n",
       "      <td>THEFT F/AUTO</td>\n",
       "      <td>OTHERS</td>\n",
       "      <td>Precinct 69</td>\n",
       "      <td>402674.74</td>\n",
       "      <td>140800.41</td>\n",
       "      <td>503.0</td>\n",
       "      <td>North</td>\n",
       "    </tr>\n",
       "    <tr>\n",
       "      <th>7</th>\n",
       "      <td>21051553</td>\n",
       "      <td>2021/04/23 16:37:32+00</td>\n",
       "      <td>DAY</td>\n",
       "      <td>BURGLARY</td>\n",
       "      <td>OTHERS</td>\n",
       "      <td>Precinct 83</td>\n",
       "      <td>400318.94</td>\n",
       "      <td>137500.98</td>\n",
       "      <td>501.0</td>\n",
       "      <td>North</td>\n",
       "    </tr>\n",
       "    <tr>\n",
       "      <th>8</th>\n",
       "      <td>21051567</td>\n",
       "      <td>2021/04/23 15:48:59+00</td>\n",
       "      <td>DAY</td>\n",
       "      <td>THEFT/OTHER</td>\n",
       "      <td>OTHERS</td>\n",
       "      <td>Precinct 144</td>\n",
       "      <td>399695.20</td>\n",
       "      <td>137774.00</td>\n",
       "      <td>501.0</td>\n",
       "      <td>North</td>\n",
       "    </tr>\n",
       "    <tr>\n",
       "      <th>9</th>\n",
       "      <td>21051603</td>\n",
       "      <td>2021/04/23 16:08:48+00</td>\n",
       "      <td>DAY</td>\n",
       "      <td>THEFT/OTHER</td>\n",
       "      <td>OTHERS</td>\n",
       "      <td>Precinct 91</td>\n",
       "      <td>401147.60</td>\n",
       "      <td>134664.50</td>\n",
       "      <td>106.0</td>\n",
       "      <td>South</td>\n",
       "    </tr>\n",
       "  </tbody>\n",
       "</table>\n",
       "</div>"
      ],
      "text/plain": [
       "        CCN              REPORT_DAT     SHIFT       OFFENSE  METHOD  \\\n",
       "0  20139232  2021/12/06 05:00:00+00  MIDNIGHT      HOMICIDE     GUN   \n",
       "1  11048862  2021/10/13 21:24:42+00   EVENING  THEFT F/AUTO  OTHERS   \n",
       "2  10008883  2021/08/04 20:36:50+00   EVENING   THEFT/OTHER  OTHERS   \n",
       "3  11124202  2021/09/01 12:39:59+00       DAY   THEFT/OTHER  OTHERS   \n",
       "4  12113231  2021/08/12 12:00:17+00       DAY   THEFT/OTHER  OTHERS   \n",
       "5  15003190  2021/10/21 04:08:27+00  MIDNIGHT  THEFT F/AUTO  OTHERS   \n",
       "6  21051546  2021/04/23 14:39:37+00       DAY  THEFT F/AUTO  OTHERS   \n",
       "7  21051553  2021/04/23 16:37:32+00       DAY      BURGLARY  OTHERS   \n",
       "8  21051567  2021/04/23 15:48:59+00       DAY   THEFT/OTHER  OTHERS   \n",
       "9  21051603  2021/04/23 16:08:48+00       DAY   THEFT/OTHER  OTHERS   \n",
       "\n",
       "  VOTING_PRECINCT     XBLOCK     YBLOCK    PSA REGION  \n",
       "0     Precinct 46  398576.16  141939.53  407.0  North  \n",
       "1     Precinct 27  394049.03  140468.17  204.0  North  \n",
       "2    Precinct 105  406401.56  135172.74  604.0  South  \n",
       "3     Precinct 77  400924.55  137563.02  506.0  North  \n",
       "4     Precinct 76  401249.74  138295.18  506.0  North  \n",
       "5    Precinct 129  397041.70  137184.93  207.0  North  \n",
       "6     Precinct 69  402674.74  140800.41  503.0  North  \n",
       "7     Precinct 83  400318.94  137500.98  501.0  North  \n",
       "8    Precinct 144  399695.20  137774.00  501.0  North  \n",
       "9     Precinct 91  401147.60  134664.50  106.0  South  "
      ]
     },
     "execution_count": 260,
     "metadata": {},
     "output_type": "execute_result"
    }
   ],
   "source": [
    "#Load data\n",
    "file_path = Path('Crime_Incidents_in_2021 (1).csv')\n",
    "dc_crime_df_2021 = pd.read_csv(file_path, skiprows=0)[:-2]\n",
    "\n",
    "dc_crime_df_2021 = dc_crime_df_2021.loc[:, columns].copy()\n",
    "dc_crime_df_2021 = dc_crime_df_2021.dropna(axis='columns', how='all')\n",
    "\n",
    "#drop the null rows:\n",
    "dc_crime_df_2021 = dc_crime_df_2021.dropna()\n",
    "\n",
    "dc_crime_df_2021.head(10)"
   ]
  },
  {
   "cell_type": "code",
   "execution_count": 253,
   "id": "fe5a9309",
   "metadata": {},
   "outputs": [
    {
     "name": "stdout",
     "output_type": "stream",
     "text": [
      "<class 'pandas.core.frame.DataFrame'>\n",
      "Int64Index: 55750 entries, 0 to 27909\n",
      "Data columns (total 9 columns):\n",
      " #   Column           Non-Null Count  Dtype              \n",
      "---  ------           --------------  -----              \n",
      " 0   CCN              55750 non-null  int64              \n",
      " 1   OFFENSE          55750 non-null  object             \n",
      " 2   PSA              55750 non-null  float64            \n",
      " 3   REPORT_DAT       55750 non-null  datetime64[ns, UTC]\n",
      " 4   SHIFT            55750 non-null  object             \n",
      " 5   METHOD           55750 non-null  object             \n",
      " 6   VOTING_PRECINCT  55750 non-null  object             \n",
      " 7   XBLOCK           55750 non-null  float64            \n",
      " 8   YBLOCK           55750 non-null  float64            \n",
      "dtypes: datetime64[ns, UTC](1), float64(3), int64(1), object(4)\n",
      "memory usage: 4.3+ MB\n"
     ]
    }
   ],
   "source": [
    "dc_crime_df_2021.info()"
   ]
  },
  {
   "cell_type": "code",
   "execution_count": 249,
   "id": "ef40180d",
   "metadata": {},
   "outputs": [
    {
     "data": {
      "text/html": [
       "<div>\n",
       "<style scoped>\n",
       "    .dataframe tbody tr th:only-of-type {\n",
       "        vertical-align: middle;\n",
       "    }\n",
       "\n",
       "    .dataframe tbody tr th {\n",
       "        vertical-align: top;\n",
       "    }\n",
       "\n",
       "    .dataframe thead th {\n",
       "        text-align: right;\n",
       "    }\n",
       "</style>\n",
       "<table border=\"1\" class=\"dataframe\">\n",
       "  <thead>\n",
       "    <tr style=\"text-align: right;\">\n",
       "      <th></th>\n",
       "      <th>CCN</th>\n",
       "      <th>REPORT_DAT</th>\n",
       "      <th>SHIFT</th>\n",
       "      <th>OFFENSE</th>\n",
       "      <th>METHOD</th>\n",
       "      <th>VOTING_PRECINCT</th>\n",
       "      <th>XBLOCK</th>\n",
       "      <th>YBLOCK</th>\n",
       "      <th>PSA</th>\n",
       "      <th>REGION</th>\n",
       "    </tr>\n",
       "  </thead>\n",
       "  <tbody>\n",
       "    <tr>\n",
       "      <th>0</th>\n",
       "      <td>19229474</td>\n",
       "      <td>2020/01/06 17:59:54+00</td>\n",
       "      <td>DAY</td>\n",
       "      <td>THEFT/OTHER</td>\n",
       "      <td>OTHERS</td>\n",
       "      <td>Precinct 141</td>\n",
       "      <td>397228.8100</td>\n",
       "      <td>138511.21</td>\n",
       "      <td>301.0</td>\n",
       "      <td>North</td>\n",
       "    </tr>\n",
       "    <tr>\n",
       "      <th>1</th>\n",
       "      <td>20000062</td>\n",
       "      <td>2020/01/01 07:37:38+00</td>\n",
       "      <td>MIDNIGHT</td>\n",
       "      <td>MOTOR VEHICLE THEFT</td>\n",
       "      <td>OTHERS</td>\n",
       "      <td>Precinct 91</td>\n",
       "      <td>400734.6203</td>\n",
       "      <td>134715.45</td>\n",
       "      <td>106.0</td>\n",
       "      <td>South</td>\n",
       "    </tr>\n",
       "    <tr>\n",
       "      <th>2</th>\n",
       "      <td>20000165</td>\n",
       "      <td>2020/01/01 08:36:44+00</td>\n",
       "      <td>MIDNIGHT</td>\n",
       "      <td>THEFT/OTHER</td>\n",
       "      <td>OTHERS</td>\n",
       "      <td>Precinct 17</td>\n",
       "      <td>397001.2400</td>\n",
       "      <td>137426.67</td>\n",
       "      <td>207.0</td>\n",
       "      <td>North</td>\n",
       "    </tr>\n",
       "    <tr>\n",
       "      <th>3</th>\n",
       "      <td>20000188</td>\n",
       "      <td>2020/01/01 09:20:49+00</td>\n",
       "      <td>MIDNIGHT</td>\n",
       "      <td>THEFT F/AUTO</td>\n",
       "      <td>OTHERS</td>\n",
       "      <td>Precinct 21</td>\n",
       "      <td>397921.2800</td>\n",
       "      <td>138345.51</td>\n",
       "      <td>307.0</td>\n",
       "      <td>North</td>\n",
       "    </tr>\n",
       "    <tr>\n",
       "      <th>4</th>\n",
       "      <td>20000202</td>\n",
       "      <td>2020/01/01 09:53:33+00</td>\n",
       "      <td>MIDNIGHT</td>\n",
       "      <td>ASSAULT W/DANGEROUS WEAPON</td>\n",
       "      <td>GUN</td>\n",
       "      <td>Precinct 1</td>\n",
       "      <td>399214.7900</td>\n",
       "      <td>137753.75</td>\n",
       "      <td>102.0</td>\n",
       "      <td>South</td>\n",
       "    </tr>\n",
       "    <tr>\n",
       "      <th>5</th>\n",
       "      <td>20000205</td>\n",
       "      <td>2020/01/01 09:25:41+00</td>\n",
       "      <td>MIDNIGHT</td>\n",
       "      <td>ROBBERY</td>\n",
       "      <td>OTHERS</td>\n",
       "      <td>Precinct 69</td>\n",
       "      <td>403053.6500</td>\n",
       "      <td>140739.91</td>\n",
       "      <td>503.0</td>\n",
       "      <td>North</td>\n",
       "    </tr>\n",
       "    <tr>\n",
       "      <th>6</th>\n",
       "      <td>20000217</td>\n",
       "      <td>2020/01/01 10:34:52+00</td>\n",
       "      <td>MIDNIGHT</td>\n",
       "      <td>THEFT/OTHER</td>\n",
       "      <td>OTHERS</td>\n",
       "      <td>Precinct 14</td>\n",
       "      <td>396217.8900</td>\n",
       "      <td>138008.23</td>\n",
       "      <td>208.0</td>\n",
       "      <td>North</td>\n",
       "    </tr>\n",
       "    <tr>\n",
       "      <th>7</th>\n",
       "      <td>20000218</td>\n",
       "      <td>2020/01/01 10:26:32+00</td>\n",
       "      <td>MIDNIGHT</td>\n",
       "      <td>MOTOR VEHICLE THEFT</td>\n",
       "      <td>OTHERS</td>\n",
       "      <td>Precinct 144</td>\n",
       "      <td>399272.3700</td>\n",
       "      <td>136594.95</td>\n",
       "      <td>102.0</td>\n",
       "      <td>South</td>\n",
       "    </tr>\n",
       "    <tr>\n",
       "      <th>8</th>\n",
       "      <td>20000232</td>\n",
       "      <td>2020/01/01 11:07:24+00</td>\n",
       "      <td>MIDNIGHT</td>\n",
       "      <td>ASSAULT W/DANGEROUS WEAPON</td>\n",
       "      <td>GUN</td>\n",
       "      <td>Precinct 79</td>\n",
       "      <td>402339.0500</td>\n",
       "      <td>137267.00</td>\n",
       "      <td>507.0</td>\n",
       "      <td>North</td>\n",
       "    </tr>\n",
       "    <tr>\n",
       "      <th>9</th>\n",
       "      <td>20000249</td>\n",
       "      <td>2020/01/01 10:56:19+00</td>\n",
       "      <td>MIDNIGHT</td>\n",
       "      <td>THEFT/OTHER</td>\n",
       "      <td>OTHERS</td>\n",
       "      <td>Precinct 137</td>\n",
       "      <td>397921.5200</td>\n",
       "      <td>138712.81</td>\n",
       "      <td>305.0</td>\n",
       "      <td>North</td>\n",
       "    </tr>\n",
       "  </tbody>\n",
       "</table>\n",
       "</div>"
      ],
      "text/plain": [
       "        CCN              REPORT_DAT     SHIFT                     OFFENSE  \\\n",
       "0  19229474  2020/01/06 17:59:54+00       DAY                 THEFT/OTHER   \n",
       "1  20000062  2020/01/01 07:37:38+00  MIDNIGHT         MOTOR VEHICLE THEFT   \n",
       "2  20000165  2020/01/01 08:36:44+00  MIDNIGHT                 THEFT/OTHER   \n",
       "3  20000188  2020/01/01 09:20:49+00  MIDNIGHT                THEFT F/AUTO   \n",
       "4  20000202  2020/01/01 09:53:33+00  MIDNIGHT  ASSAULT W/DANGEROUS WEAPON   \n",
       "5  20000205  2020/01/01 09:25:41+00  MIDNIGHT                     ROBBERY   \n",
       "6  20000217  2020/01/01 10:34:52+00  MIDNIGHT                 THEFT/OTHER   \n",
       "7  20000218  2020/01/01 10:26:32+00  MIDNIGHT         MOTOR VEHICLE THEFT   \n",
       "8  20000232  2020/01/01 11:07:24+00  MIDNIGHT  ASSAULT W/DANGEROUS WEAPON   \n",
       "9  20000249  2020/01/01 10:56:19+00  MIDNIGHT                 THEFT/OTHER   \n",
       "\n",
       "   METHOD VOTING_PRECINCT       XBLOCK     YBLOCK    PSA REGION  \n",
       "0  OTHERS    Precinct 141  397228.8100  138511.21  301.0  North  \n",
       "1  OTHERS     Precinct 91  400734.6203  134715.45  106.0  South  \n",
       "2  OTHERS     Precinct 17  397001.2400  137426.67  207.0  North  \n",
       "3  OTHERS     Precinct 21  397921.2800  138345.51  307.0  North  \n",
       "4     GUN      Precinct 1  399214.7900  137753.75  102.0  South  \n",
       "5  OTHERS     Precinct 69  403053.6500  140739.91  503.0  North  \n",
       "6  OTHERS     Precinct 14  396217.8900  138008.23  208.0  North  \n",
       "7  OTHERS    Precinct 144  399272.3700  136594.95  102.0  South  \n",
       "8     GUN     Precinct 79  402339.0500  137267.00  507.0  North  \n",
       "9  OTHERS    Precinct 137  397921.5200  138712.81  305.0  North  "
      ]
     },
     "execution_count": 249,
     "metadata": {},
     "output_type": "execute_result"
    }
   ],
   "source": [
    "file_path = Path('Crime_Incidents_in_2020 (1).csv')\n",
    "dc_crime_df_2020 = pd.read_csv(file_path, skiprows=0)[:-2]\n",
    "\n",
    "dc_crime_df_2020 = dc_crime_df_2020.loc[:, columns].copy()\n",
    "dc_crime_df_2020 = dc_crime_df_2020.dropna(axis='columns', how='all')\n",
    "\n",
    "#drop the null rows:\n",
    "dc_crime_df_2020 = dc_crime_df_2020.dropna()\n",
    "\n",
    "dc_crime_df_2020.head(10)"
   ]
  },
  {
   "cell_type": "code",
   "execution_count": 262,
   "id": "3cac36b8",
   "metadata": {},
   "outputs": [
    {
     "data": {
      "text/html": [
       "<div>\n",
       "<style scoped>\n",
       "    .dataframe tbody tr th:only-of-type {\n",
       "        vertical-align: middle;\n",
       "    }\n",
       "\n",
       "    .dataframe tbody tr th {\n",
       "        vertical-align: top;\n",
       "    }\n",
       "\n",
       "    .dataframe thead th {\n",
       "        text-align: right;\n",
       "    }\n",
       "</style>\n",
       "<table border=\"1\" class=\"dataframe\">\n",
       "  <thead>\n",
       "    <tr style=\"text-align: right;\">\n",
       "      <th></th>\n",
       "      <th>CCN</th>\n",
       "      <th>REPORT_DAT</th>\n",
       "      <th>SHIFT</th>\n",
       "      <th>OFFENSE</th>\n",
       "      <th>METHOD</th>\n",
       "      <th>VOTING_PRECINCT</th>\n",
       "      <th>XBLOCK</th>\n",
       "      <th>YBLOCK</th>\n",
       "      <th>PSA</th>\n",
       "      <th>REGION</th>\n",
       "    </tr>\n",
       "  </thead>\n",
       "  <tbody>\n",
       "    <tr>\n",
       "      <th>0</th>\n",
       "      <td>20139232</td>\n",
       "      <td>2021/12/06 05:00:00+00</td>\n",
       "      <td>MIDNIGHT</td>\n",
       "      <td>HOMICIDE</td>\n",
       "      <td>GUN</td>\n",
       "      <td>Precinct 46</td>\n",
       "      <td>398576.1600</td>\n",
       "      <td>141939.5300</td>\n",
       "      <td>407.0</td>\n",
       "      <td>North</td>\n",
       "    </tr>\n",
       "    <tr>\n",
       "      <th>1</th>\n",
       "      <td>11048862</td>\n",
       "      <td>2021/10/13 21:24:42+00</td>\n",
       "      <td>EVENING</td>\n",
       "      <td>THEFT F/AUTO</td>\n",
       "      <td>OTHERS</td>\n",
       "      <td>Precinct 27</td>\n",
       "      <td>394049.0300</td>\n",
       "      <td>140468.1700</td>\n",
       "      <td>204.0</td>\n",
       "      <td>North</td>\n",
       "    </tr>\n",
       "    <tr>\n",
       "      <th>2</th>\n",
       "      <td>10008883</td>\n",
       "      <td>2021/08/04 20:36:50+00</td>\n",
       "      <td>EVENING</td>\n",
       "      <td>THEFT/OTHER</td>\n",
       "      <td>OTHERS</td>\n",
       "      <td>Precinct 105</td>\n",
       "      <td>406401.5600</td>\n",
       "      <td>135172.7400</td>\n",
       "      <td>604.0</td>\n",
       "      <td>South</td>\n",
       "    </tr>\n",
       "    <tr>\n",
       "      <th>3</th>\n",
       "      <td>11124202</td>\n",
       "      <td>2021/09/01 12:39:59+00</td>\n",
       "      <td>DAY</td>\n",
       "      <td>THEFT/OTHER</td>\n",
       "      <td>OTHERS</td>\n",
       "      <td>Precinct 77</td>\n",
       "      <td>400924.5500</td>\n",
       "      <td>137563.0200</td>\n",
       "      <td>506.0</td>\n",
       "      <td>North</td>\n",
       "    </tr>\n",
       "    <tr>\n",
       "      <th>4</th>\n",
       "      <td>12113231</td>\n",
       "      <td>2021/08/12 12:00:17+00</td>\n",
       "      <td>DAY</td>\n",
       "      <td>THEFT/OTHER</td>\n",
       "      <td>OTHERS</td>\n",
       "      <td>Precinct 76</td>\n",
       "      <td>401249.7400</td>\n",
       "      <td>138295.1800</td>\n",
       "      <td>506.0</td>\n",
       "      <td>North</td>\n",
       "    </tr>\n",
       "    <tr>\n",
       "      <th>...</th>\n",
       "      <td>...</td>\n",
       "      <td>...</td>\n",
       "      <td>...</td>\n",
       "      <td>...</td>\n",
       "      <td>...</td>\n",
       "      <td>...</td>\n",
       "      <td>...</td>\n",
       "      <td>...</td>\n",
       "      <td>...</td>\n",
       "      <td>...</td>\n",
       "    </tr>\n",
       "    <tr>\n",
       "      <th>27905</th>\n",
       "      <td>20026522</td>\n",
       "      <td>2020/02/13 04:55:40+00</td>\n",
       "      <td>MIDNIGHT</td>\n",
       "      <td>THEFT F/AUTO</td>\n",
       "      <td>OTHERS</td>\n",
       "      <td>Precinct 67</td>\n",
       "      <td>400346.6100</td>\n",
       "      <td>142041.7700</td>\n",
       "      <td>405.0</td>\n",
       "      <td>North</td>\n",
       "    </tr>\n",
       "    <tr>\n",
       "      <th>27906</th>\n",
       "      <td>20029077</td>\n",
       "      <td>2020/02/17 17:26:55+00</td>\n",
       "      <td>DAY</td>\n",
       "      <td>THEFT/OTHER</td>\n",
       "      <td>OTHERS</td>\n",
       "      <td>Precinct 113</td>\n",
       "      <td>403198.6715</td>\n",
       "      <td>132699.4993</td>\n",
       "      <td>606.0</td>\n",
       "      <td>South</td>\n",
       "    </tr>\n",
       "    <tr>\n",
       "      <th>27907</th>\n",
       "      <td>20029087</td>\n",
       "      <td>2020/02/17 18:03:27+00</td>\n",
       "      <td>DAY</td>\n",
       "      <td>THEFT F/AUTO</td>\n",
       "      <td>OTHERS</td>\n",
       "      <td>Precinct 114</td>\n",
       "      <td>400867.1000</td>\n",
       "      <td>132951.2900</td>\n",
       "      <td>701.0</td>\n",
       "      <td>South</td>\n",
       "    </tr>\n",
       "    <tr>\n",
       "      <th>27908</th>\n",
       "      <td>20029090</td>\n",
       "      <td>2020/02/17 18:15:15+00</td>\n",
       "      <td>DAY</td>\n",
       "      <td>THEFT F/AUTO</td>\n",
       "      <td>OTHERS</td>\n",
       "      <td>Precinct 35</td>\n",
       "      <td>396163.7000</td>\n",
       "      <td>139534.4600</td>\n",
       "      <td>303.0</td>\n",
       "      <td>North</td>\n",
       "    </tr>\n",
       "    <tr>\n",
       "      <th>27909</th>\n",
       "      <td>20029108</td>\n",
       "      <td>2020/02/17 19:11:24+00</td>\n",
       "      <td>DAY</td>\n",
       "      <td>THEFT F/AUTO</td>\n",
       "      <td>OTHERS</td>\n",
       "      <td>Precinct 129</td>\n",
       "      <td>398186.2200</td>\n",
       "      <td>137001.8500</td>\n",
       "      <td>101.0</td>\n",
       "      <td>South</td>\n",
       "    </tr>\n",
       "  </tbody>\n",
       "</table>\n",
       "<p>56008 rows × 10 columns</p>\n",
       "</div>"
      ],
      "text/plain": [
       "            CCN              REPORT_DAT     SHIFT       OFFENSE  METHOD  \\\n",
       "0      20139232  2021/12/06 05:00:00+00  MIDNIGHT      HOMICIDE     GUN   \n",
       "1      11048862  2021/10/13 21:24:42+00   EVENING  THEFT F/AUTO  OTHERS   \n",
       "2      10008883  2021/08/04 20:36:50+00   EVENING   THEFT/OTHER  OTHERS   \n",
       "3      11124202  2021/09/01 12:39:59+00       DAY   THEFT/OTHER  OTHERS   \n",
       "4      12113231  2021/08/12 12:00:17+00       DAY   THEFT/OTHER  OTHERS   \n",
       "...         ...                     ...       ...           ...     ...   \n",
       "27905  20026522  2020/02/13 04:55:40+00  MIDNIGHT  THEFT F/AUTO  OTHERS   \n",
       "27906  20029077  2020/02/17 17:26:55+00       DAY   THEFT/OTHER  OTHERS   \n",
       "27907  20029087  2020/02/17 18:03:27+00       DAY  THEFT F/AUTO  OTHERS   \n",
       "27908  20029090  2020/02/17 18:15:15+00       DAY  THEFT F/AUTO  OTHERS   \n",
       "27909  20029108  2020/02/17 19:11:24+00       DAY  THEFT F/AUTO  OTHERS   \n",
       "\n",
       "      VOTING_PRECINCT       XBLOCK       YBLOCK    PSA REGION  \n",
       "0         Precinct 46  398576.1600  141939.5300  407.0  North  \n",
       "1         Precinct 27  394049.0300  140468.1700  204.0  North  \n",
       "2        Precinct 105  406401.5600  135172.7400  604.0  South  \n",
       "3         Precinct 77  400924.5500  137563.0200  506.0  North  \n",
       "4         Precinct 76  401249.7400  138295.1800  506.0  North  \n",
       "...               ...          ...          ...    ...    ...  \n",
       "27905     Precinct 67  400346.6100  142041.7700  405.0  North  \n",
       "27906    Precinct 113  403198.6715  132699.4993  606.0  South  \n",
       "27907    Precinct 114  400867.1000  132951.2900  701.0  South  \n",
       "27908     Precinct 35  396163.7000  139534.4600  303.0  North  \n",
       "27909    Precinct 129  398186.2200  137001.8500  101.0  South  \n",
       "\n",
       "[56008 rows x 10 columns]"
      ]
     },
     "metadata": {},
     "output_type": "display_data"
    }
   ],
   "source": [
    "frames = [dc_crime_df_2021, dc_crime_df_2020]\n",
    "\n",
    "dc_crime_df = pd.concat(frames)\n",
    "display(dc_crime_df)"
   ]
  },
  {
   "cell_type": "code",
   "execution_count": null,
   "id": "0abbf4ab",
   "metadata": {},
   "outputs": [],
   "source": []
  },
  {
   "cell_type": "code",
   "execution_count": 263,
   "id": "57abfb9c",
   "metadata": {},
   "outputs": [],
   "source": [
    "dc_crime_df['REPORT_DAT'] = pd.to_datetime(dc_crime_df['REPORT_DAT'].astype(str), errors='coerce')\n",
    "dc_crime_df['REPORT_DAT'] = pd.to_datetime(dc_crime_df['REPORT_DAT'], format = '%d/%m/%Y %H:%M:%S')\n",
    "\n",
    "column_1 = dc_crime_df['REPORT_DAT']\n",
    "db=pd.DataFrame({\"year\": column_1.dt.year,\n",
    "              \"month\": column_1.dt.month,\n",
    "              \"day\": column_1.dt.day,\n",
    "#               \"dayofyear\": column_1.dt.dayofyear,\n",
    "#               \"week\": column_1.dt.week,\n",
    "#               \"weekofyear\": column_1.dt.weekofyear,\n",
    "              \"dayofweek\": column_1.dt.dayofweek,\n",
    "              \"quarter\": column_1.dt.quarter,\n",
    "             })"
   ]
  },
  {
   "cell_type": "code",
   "execution_count": 264,
   "id": "e9443108",
   "metadata": {},
   "outputs": [
    {
     "data": {
      "text/html": [
       "<div>\n",
       "<style scoped>\n",
       "    .dataframe tbody tr th:only-of-type {\n",
       "        vertical-align: middle;\n",
       "    }\n",
       "\n",
       "    .dataframe tbody tr th {\n",
       "        vertical-align: top;\n",
       "    }\n",
       "\n",
       "    .dataframe thead th {\n",
       "        text-align: right;\n",
       "    }\n",
       "</style>\n",
       "<table border=\"1\" class=\"dataframe\">\n",
       "  <thead>\n",
       "    <tr style=\"text-align: right;\">\n",
       "      <th></th>\n",
       "      <th>year</th>\n",
       "      <th>month</th>\n",
       "      <th>day</th>\n",
       "      <th>dayofweek</th>\n",
       "      <th>quarter</th>\n",
       "      <th>CCN</th>\n",
       "      <th>SHIFT</th>\n",
       "      <th>OFFENSE</th>\n",
       "      <th>METHOD</th>\n",
       "      <th>VOTING_PRECINCT</th>\n",
       "      <th>XBLOCK</th>\n",
       "      <th>YBLOCK</th>\n",
       "      <th>PSA</th>\n",
       "      <th>REGION</th>\n",
       "    </tr>\n",
       "  </thead>\n",
       "  <tbody>\n",
       "    <tr>\n",
       "      <th>0</th>\n",
       "      <td>2021</td>\n",
       "      <td>12</td>\n",
       "      <td>6</td>\n",
       "      <td>0</td>\n",
       "      <td>4</td>\n",
       "      <td>20139232</td>\n",
       "      <td>MIDNIGHT</td>\n",
       "      <td>HOMICIDE</td>\n",
       "      <td>GUN</td>\n",
       "      <td>Precinct 46</td>\n",
       "      <td>398576.1600</td>\n",
       "      <td>141939.5300</td>\n",
       "      <td>407.0</td>\n",
       "      <td>North</td>\n",
       "    </tr>\n",
       "    <tr>\n",
       "      <th>1</th>\n",
       "      <td>2021</td>\n",
       "      <td>10</td>\n",
       "      <td>13</td>\n",
       "      <td>2</td>\n",
       "      <td>4</td>\n",
       "      <td>11048862</td>\n",
       "      <td>EVENING</td>\n",
       "      <td>THEFT F/AUTO</td>\n",
       "      <td>OTHERS</td>\n",
       "      <td>Precinct 27</td>\n",
       "      <td>394049.0300</td>\n",
       "      <td>140468.1700</td>\n",
       "      <td>204.0</td>\n",
       "      <td>North</td>\n",
       "    </tr>\n",
       "    <tr>\n",
       "      <th>2</th>\n",
       "      <td>2021</td>\n",
       "      <td>8</td>\n",
       "      <td>4</td>\n",
       "      <td>2</td>\n",
       "      <td>3</td>\n",
       "      <td>10008883</td>\n",
       "      <td>EVENING</td>\n",
       "      <td>THEFT/OTHER</td>\n",
       "      <td>OTHERS</td>\n",
       "      <td>Precinct 105</td>\n",
       "      <td>406401.5600</td>\n",
       "      <td>135172.7400</td>\n",
       "      <td>604.0</td>\n",
       "      <td>South</td>\n",
       "    </tr>\n",
       "    <tr>\n",
       "      <th>3</th>\n",
       "      <td>2021</td>\n",
       "      <td>9</td>\n",
       "      <td>1</td>\n",
       "      <td>2</td>\n",
       "      <td>3</td>\n",
       "      <td>11124202</td>\n",
       "      <td>DAY</td>\n",
       "      <td>THEFT/OTHER</td>\n",
       "      <td>OTHERS</td>\n",
       "      <td>Precinct 77</td>\n",
       "      <td>400924.5500</td>\n",
       "      <td>137563.0200</td>\n",
       "      <td>506.0</td>\n",
       "      <td>North</td>\n",
       "    </tr>\n",
       "    <tr>\n",
       "      <th>4</th>\n",
       "      <td>2021</td>\n",
       "      <td>8</td>\n",
       "      <td>12</td>\n",
       "      <td>3</td>\n",
       "      <td>3</td>\n",
       "      <td>12113231</td>\n",
       "      <td>DAY</td>\n",
       "      <td>THEFT/OTHER</td>\n",
       "      <td>OTHERS</td>\n",
       "      <td>Precinct 76</td>\n",
       "      <td>401249.7400</td>\n",
       "      <td>138295.1800</td>\n",
       "      <td>506.0</td>\n",
       "      <td>North</td>\n",
       "    </tr>\n",
       "    <tr>\n",
       "      <th>...</th>\n",
       "      <td>...</td>\n",
       "      <td>...</td>\n",
       "      <td>...</td>\n",
       "      <td>...</td>\n",
       "      <td>...</td>\n",
       "      <td>...</td>\n",
       "      <td>...</td>\n",
       "      <td>...</td>\n",
       "      <td>...</td>\n",
       "      <td>...</td>\n",
       "      <td>...</td>\n",
       "      <td>...</td>\n",
       "      <td>...</td>\n",
       "      <td>...</td>\n",
       "    </tr>\n",
       "    <tr>\n",
       "      <th>27905</th>\n",
       "      <td>2020</td>\n",
       "      <td>2</td>\n",
       "      <td>13</td>\n",
       "      <td>3</td>\n",
       "      <td>1</td>\n",
       "      <td>20026522</td>\n",
       "      <td>MIDNIGHT</td>\n",
       "      <td>THEFT F/AUTO</td>\n",
       "      <td>OTHERS</td>\n",
       "      <td>Precinct 67</td>\n",
       "      <td>400346.6100</td>\n",
       "      <td>142041.7700</td>\n",
       "      <td>405.0</td>\n",
       "      <td>North</td>\n",
       "    </tr>\n",
       "    <tr>\n",
       "      <th>27906</th>\n",
       "      <td>2020</td>\n",
       "      <td>2</td>\n",
       "      <td>17</td>\n",
       "      <td>0</td>\n",
       "      <td>1</td>\n",
       "      <td>20029077</td>\n",
       "      <td>DAY</td>\n",
       "      <td>THEFT/OTHER</td>\n",
       "      <td>OTHERS</td>\n",
       "      <td>Precinct 113</td>\n",
       "      <td>403198.6715</td>\n",
       "      <td>132699.4993</td>\n",
       "      <td>606.0</td>\n",
       "      <td>South</td>\n",
       "    </tr>\n",
       "    <tr>\n",
       "      <th>27907</th>\n",
       "      <td>2020</td>\n",
       "      <td>2</td>\n",
       "      <td>17</td>\n",
       "      <td>0</td>\n",
       "      <td>1</td>\n",
       "      <td>20029087</td>\n",
       "      <td>DAY</td>\n",
       "      <td>THEFT F/AUTO</td>\n",
       "      <td>OTHERS</td>\n",
       "      <td>Precinct 114</td>\n",
       "      <td>400867.1000</td>\n",
       "      <td>132951.2900</td>\n",
       "      <td>701.0</td>\n",
       "      <td>South</td>\n",
       "    </tr>\n",
       "    <tr>\n",
       "      <th>27908</th>\n",
       "      <td>2020</td>\n",
       "      <td>2</td>\n",
       "      <td>17</td>\n",
       "      <td>0</td>\n",
       "      <td>1</td>\n",
       "      <td>20029090</td>\n",
       "      <td>DAY</td>\n",
       "      <td>THEFT F/AUTO</td>\n",
       "      <td>OTHERS</td>\n",
       "      <td>Precinct 35</td>\n",
       "      <td>396163.7000</td>\n",
       "      <td>139534.4600</td>\n",
       "      <td>303.0</td>\n",
       "      <td>North</td>\n",
       "    </tr>\n",
       "    <tr>\n",
       "      <th>27909</th>\n",
       "      <td>2020</td>\n",
       "      <td>2</td>\n",
       "      <td>17</td>\n",
       "      <td>0</td>\n",
       "      <td>1</td>\n",
       "      <td>20029108</td>\n",
       "      <td>DAY</td>\n",
       "      <td>THEFT F/AUTO</td>\n",
       "      <td>OTHERS</td>\n",
       "      <td>Precinct 129</td>\n",
       "      <td>398186.2200</td>\n",
       "      <td>137001.8500</td>\n",
       "      <td>101.0</td>\n",
       "      <td>South</td>\n",
       "    </tr>\n",
       "  </tbody>\n",
       "</table>\n",
       "<p>56008 rows × 14 columns</p>\n",
       "</div>"
      ],
      "text/plain": [
       "       year  month  day  dayofweek  quarter       CCN     SHIFT       OFFENSE  \\\n",
       "0      2021     12    6          0        4  20139232  MIDNIGHT      HOMICIDE   \n",
       "1      2021     10   13          2        4  11048862   EVENING  THEFT F/AUTO   \n",
       "2      2021      8    4          2        3  10008883   EVENING   THEFT/OTHER   \n",
       "3      2021      9    1          2        3  11124202       DAY   THEFT/OTHER   \n",
       "4      2021      8   12          3        3  12113231       DAY   THEFT/OTHER   \n",
       "...     ...    ...  ...        ...      ...       ...       ...           ...   \n",
       "27905  2020      2   13          3        1  20026522  MIDNIGHT  THEFT F/AUTO   \n",
       "27906  2020      2   17          0        1  20029077       DAY   THEFT/OTHER   \n",
       "27907  2020      2   17          0        1  20029087       DAY  THEFT F/AUTO   \n",
       "27908  2020      2   17          0        1  20029090       DAY  THEFT F/AUTO   \n",
       "27909  2020      2   17          0        1  20029108       DAY  THEFT F/AUTO   \n",
       "\n",
       "       METHOD VOTING_PRECINCT       XBLOCK       YBLOCK    PSA REGION  \n",
       "0         GUN     Precinct 46  398576.1600  141939.5300  407.0  North  \n",
       "1      OTHERS     Precinct 27  394049.0300  140468.1700  204.0  North  \n",
       "2      OTHERS    Precinct 105  406401.5600  135172.7400  604.0  South  \n",
       "3      OTHERS     Precinct 77  400924.5500  137563.0200  506.0  North  \n",
       "4      OTHERS     Precinct 76  401249.7400  138295.1800  506.0  North  \n",
       "...       ...             ...          ...          ...    ...    ...  \n",
       "27905  OTHERS     Precinct 67  400346.6100  142041.7700  405.0  North  \n",
       "27906  OTHERS    Precinct 113  403198.6715  132699.4993  606.0  South  \n",
       "27907  OTHERS    Precinct 114  400867.1000  132951.2900  701.0  South  \n",
       "27908  OTHERS     Precinct 35  396163.7000  139534.4600  303.0  North  \n",
       "27909  OTHERS    Precinct 129  398186.2200  137001.8500  101.0  South  \n",
       "\n",
       "[56008 rows x 14 columns]"
      ]
     },
     "execution_count": 264,
     "metadata": {},
     "output_type": "execute_result"
    }
   ],
   "source": [
    "dataset1=dc_crime_df.drop('REPORT_DAT',axis=1)\n",
    "data1=pd.concat([db,dataset1],axis=1)\n",
    "data1"
   ]
  },
  {
   "cell_type": "code",
   "execution_count": 165,
   "id": "40c638c4",
   "metadata": {},
   "outputs": [],
   "source": [
    "# Convert to datetime data type\n",
    "#dc_crime_df['REPORT_DAT'] = pd.to_datetime(dc_crime_df['REPORT_DAT'])\n",
    "#dc_crime_df"
   ]
  },
  {
   "cell_type": "code",
   "execution_count": 166,
   "id": "8014138e",
   "metadata": {},
   "outputs": [],
   "source": [
    "# Categorize data from method column into violent or non-violent\n",
    "#def categorise (row):\n",
    " #   if row[\"METHOD\"]=='GUN':\n",
    " #       return 'VIOLENT'\n",
    " #  elif row[\"METHOD\"]=='KNIFE':\n",
    " #       return \"VIOLENT\"\n",
    " #   elif row[\"METHOD\"]=='OTHERS':\n",
    " #       return \"NON-VIOLENT\"\n",
    " #   return \"NON-VIOLENT\""
   ]
  },
  {
   "cell_type": "code",
   "execution_count": 167,
   "id": "c336de04",
   "metadata": {},
   "outputs": [],
   "source": [
    "# Create new colum with crimetype - violent or non-violent\n",
    "#dc_crime_df[\"crimetype\"] = dc_crime_df.apply(lambda row: categorise (row), axis=1)\n",
    "#dc_crime_df"
   ]
  },
  {
   "cell_type": "code",
   "execution_count": 182,
   "id": "8887f766",
   "metadata": {},
   "outputs": [
    {
     "data": {
      "text/html": [
       "<div>\n",
       "<style scoped>\n",
       "    .dataframe tbody tr th:only-of-type {\n",
       "        vertical-align: middle;\n",
       "    }\n",
       "\n",
       "    .dataframe tbody tr th {\n",
       "        vertical-align: top;\n",
       "    }\n",
       "\n",
       "    .dataframe thead th {\n",
       "        text-align: right;\n",
       "    }\n",
       "</style>\n",
       "<table border=\"1\" class=\"dataframe\">\n",
       "  <thead>\n",
       "    <tr style=\"text-align: right;\">\n",
       "      <th></th>\n",
       "      <th>year</th>\n",
       "      <th>month</th>\n",
       "      <th>day</th>\n",
       "      <th>dayofweek</th>\n",
       "      <th>quarter</th>\n",
       "      <th>CCN</th>\n",
       "      <th>OFFENSE</th>\n",
       "      <th>PSA</th>\n",
       "      <th>SHIFT</th>\n",
       "      <th>METHOD</th>\n",
       "      <th>VOTING_PRECINCT</th>\n",
       "      <th>XBLOCK</th>\n",
       "      <th>YBLOCK</th>\n",
       "    </tr>\n",
       "  </thead>\n",
       "  <tbody>\n",
       "    <tr>\n",
       "      <th>168</th>\n",
       "      <td>2020</td>\n",
       "      <td>1</td>\n",
       "      <td>12</td>\n",
       "      <td>6</td>\n",
       "      <td>1</td>\n",
       "      <td>20006642</td>\n",
       "      <td>HOMICIDE</td>\n",
       "      <td>507.0</td>\n",
       "      <td>MIDNIGHT</td>\n",
       "      <td>GUN</td>\n",
       "      <td>Precinct 79</td>\n",
       "      <td>402399.81</td>\n",
       "      <td>136856.20</td>\n",
       "    </tr>\n",
       "    <tr>\n",
       "      <th>242</th>\n",
       "      <td>2020</td>\n",
       "      <td>1</td>\n",
       "      <td>4</td>\n",
       "      <td>5</td>\n",
       "      <td>1</td>\n",
       "      <td>20002068</td>\n",
       "      <td>HOMICIDE</td>\n",
       "      <td>701.0</td>\n",
       "      <td>MIDNIGHT</td>\n",
       "      <td>GUN</td>\n",
       "      <td>Precinct 114</td>\n",
       "      <td>401950.19</td>\n",
       "      <td>132982.98</td>\n",
       "    </tr>\n",
       "    <tr>\n",
       "      <th>363</th>\n",
       "      <td>2020</td>\n",
       "      <td>1</td>\n",
       "      <td>5</td>\n",
       "      <td>6</td>\n",
       "      <td>1</td>\n",
       "      <td>20002623</td>\n",
       "      <td>HOMICIDE</td>\n",
       "      <td>305.0</td>\n",
       "      <td>MIDNIGHT</td>\n",
       "      <td>KNIFE</td>\n",
       "      <td>Precinct 22</td>\n",
       "      <td>397497.82</td>\n",
       "      <td>138792.81</td>\n",
       "    </tr>\n",
       "    <tr>\n",
       "      <th>644</th>\n",
       "      <td>2020</td>\n",
       "      <td>1</td>\n",
       "      <td>6</td>\n",
       "      <td>0</td>\n",
       "      <td>1</td>\n",
       "      <td>20003325</td>\n",
       "      <td>HOMICIDE</td>\n",
       "      <td>503.0</td>\n",
       "      <td>MIDNIGHT</td>\n",
       "      <td>GUN</td>\n",
       "      <td>Precinct 71</td>\n",
       "      <td>402515.24</td>\n",
       "      <td>139745.28</td>\n",
       "    </tr>\n",
       "    <tr>\n",
       "      <th>733</th>\n",
       "      <td>2020</td>\n",
       "      <td>1</td>\n",
       "      <td>26</td>\n",
       "      <td>6</td>\n",
       "      <td>1</td>\n",
       "      <td>20015735</td>\n",
       "      <td>HOMICIDE</td>\n",
       "      <td>302.0</td>\n",
       "      <td>MIDNIGHT</td>\n",
       "      <td>GUN</td>\n",
       "      <td>Precinct 37</td>\n",
       "      <td>397741.13</td>\n",
       "      <td>139968.16</td>\n",
       "    </tr>\n",
       "  </tbody>\n",
       "</table>\n",
       "</div>"
      ],
      "text/plain": [
       "     year  month  day  dayofweek  quarter       CCN   OFFENSE    PSA  \\\n",
       "168  2020      1   12          6        1  20006642  HOMICIDE  507.0   \n",
       "242  2020      1    4          5        1  20002068  HOMICIDE  701.0   \n",
       "363  2020      1    5          6        1  20002623  HOMICIDE  305.0   \n",
       "644  2020      1    6          0        1  20003325  HOMICIDE  503.0   \n",
       "733  2020      1   26          6        1  20015735  HOMICIDE  302.0   \n",
       "\n",
       "        SHIFT METHOD VOTING_PRECINCT     XBLOCK     YBLOCK  \n",
       "168  MIDNIGHT    GUN     Precinct 79  402399.81  136856.20  \n",
       "242  MIDNIGHT    GUN    Precinct 114  401950.19  132982.98  \n",
       "363  MIDNIGHT  KNIFE     Precinct 22  397497.82  138792.81  \n",
       "644  MIDNIGHT    GUN     Precinct 71  402515.24  139745.28  \n",
       "733  MIDNIGHT    GUN     Precinct 37  397741.13  139968.16  "
      ]
     },
     "execution_count": 182,
     "metadata": {},
     "output_type": "execute_result"
    }
   ],
   "source": [
    "model_small_df = data1.loc[data1['OFFENSE'].isin(['HOMICIDE'])]\n",
    "model_small_df.head()"
   ]
  },
  {
   "cell_type": "markdown",
   "id": "41bf3ac6",
   "metadata": {},
   "source": [
    "## Linear Regression Model"
   ]
  },
  {
   "cell_type": "code",
   "execution_count": 102,
   "id": "fb5d38f4",
   "metadata": {},
   "outputs": [
    {
     "data": {
      "text/html": [
       "<div>\n",
       "<style scoped>\n",
       "    .dataframe tbody tr th:only-of-type {\n",
       "        vertical-align: middle;\n",
       "    }\n",
       "\n",
       "    .dataframe tbody tr th {\n",
       "        vertical-align: top;\n",
       "    }\n",
       "\n",
       "    .dataframe thead th {\n",
       "        text-align: right;\n",
       "    }\n",
       "</style>\n",
       "<table border=\"1\" class=\"dataframe\">\n",
       "  <thead>\n",
       "    <tr style=\"text-align: right;\">\n",
       "      <th></th>\n",
       "      <th>month</th>\n",
       "      <th>OFFENSE</th>\n",
       "    </tr>\n",
       "  </thead>\n",
       "  <tbody>\n",
       "    <tr>\n",
       "      <th>0</th>\n",
       "      <td>1</td>\n",
       "      <td>32</td>\n",
       "    </tr>\n",
       "    <tr>\n",
       "      <th>1</th>\n",
       "      <td>2</td>\n",
       "      <td>24</td>\n",
       "    </tr>\n",
       "    <tr>\n",
       "      <th>2</th>\n",
       "      <td>3</td>\n",
       "      <td>21</td>\n",
       "    </tr>\n",
       "    <tr>\n",
       "      <th>3</th>\n",
       "      <td>4</td>\n",
       "      <td>31</td>\n",
       "    </tr>\n",
       "    <tr>\n",
       "      <th>4</th>\n",
       "      <td>5</td>\n",
       "      <td>32</td>\n",
       "    </tr>\n",
       "  </tbody>\n",
       "</table>\n",
       "</div>"
      ],
      "text/plain": [
       "   month  OFFENSE\n",
       "0      1       32\n",
       "1      2       24\n",
       "2      3       21\n",
       "3      4       31\n",
       "4      5       32"
      ]
     },
     "execution_count": 102,
     "metadata": {},
     "output_type": "execute_result"
    }
   ],
   "source": [
    "month = model_small_df.groupby('month')\n",
    "month = month['OFFENSE'].count()\n",
    "month = month.reset_index()\n",
    "month.head()"
   ]
  },
  {
   "cell_type": "code",
   "execution_count": 103,
   "id": "c41231ce",
   "metadata": {},
   "outputs": [
    {
     "name": "stdout",
     "output_type": "stream",
     "text": [
      "Shape:  (12, 1) (12, 1)\n"
     ]
    }
   ],
   "source": [
    "X = month.month.values.reshape(-1, 1)\n",
    "y = month.OFFENSE.values.reshape(-1, 1)\n",
    "\n",
    "print(\"Shape: \", X.shape, y.shape)"
   ]
  },
  {
   "cell_type": "code",
   "execution_count": 105,
   "id": "516a761a",
   "metadata": {},
   "outputs": [
    {
     "data": {
      "text/plain": [
       "<matplotlib.collections.PathCollection at 0x221e3ce9088>"
      ]
     },
     "execution_count": 105,
     "metadata": {},
     "output_type": "execute_result"
    },
    {
     "data": {
      "image/png": "[encoded data removed]",
      "text/plain": [
       "<Figure size 432x288 with 1 Axes>"
      ]
     },
     "metadata": {
      "needs_background": "light"
     },
     "output_type": "display_data"
    }
   ],
   "source": [
    "import matplotlib.pyplot as plt\n",
    "plt.scatter(X,y)"
   ]
  },
  {
   "cell_type": "code",
   "execution_count": 106,
   "id": "d8368704",
   "metadata": {},
   "outputs": [],
   "source": [
    "\n",
    "from sklearn.linear_model import LinearRegression\n",
    "model = LinearRegression()"
   ]
  },
  {
   "cell_type": "code",
   "execution_count": 107,
   "id": "343ba5be",
   "metadata": {},
   "outputs": [
    {
     "data": {
      "text/plain": [
       "LinearRegression()"
      ]
     },
     "execution_count": 107,
     "metadata": {},
     "output_type": "execute_result"
    }
   ],
   "source": [
    "# fit model\n",
    "model.fit(X,y)"
   ]
  },
  {
   "cell_type": "code",
   "execution_count": 108,
   "id": "a2bbe0c8",
   "metadata": {},
   "outputs": [
    {
     "name": "stdout",
     "output_type": "stream",
     "text": [
      "Weight coefficients:  [[1.51748252]]\n",
      "y-axis intercept:  [25.13636364]\n"
     ]
    }
   ],
   "source": [
    "print('Weight coefficients: ', model.coef_)\n",
    "print('y-axis intercept: ', model.intercept_)"
   ]
  },
  {
   "cell_type": "code",
   "execution_count": 109,
   "id": "00da9a7b",
   "metadata": {},
   "outputs": [],
   "source": [
    "x_min = np.array([[X.min()]])\n",
    "x_max = np.array([[X.max()]])\n",
    "y_min = model.predict(x_min)\n",
    "y_max = model.predict(x_max)"
   ]
  },
  {
   "cell_type": "code",
   "execution_count": 110,
   "id": "69faa20f",
   "metadata": {},
   "outputs": [
    {
     "data": {
      "text/plain": [
       "Text(0.5, 0, 'Month')"
      ]
     },
     "execution_count": 110,
     "metadata": {},
     "output_type": "execute_result"
    },
    {
     "data": {
      "image/png": "[encoded data removed]",
      "text/plain": [
       "<Figure size 432x288 with 1 Axes>"
      ]
     },
     "metadata": {
      "needs_background": "light"
     },
     "output_type": "display_data"
    }
   ],
   "source": [
    "#Scatter plot for homicide by month\n",
    "plt.scatter(X, y, c='blue')\n",
    "plt.plot([x_min[0], x_max[0]], [y_min[0], y_max[0]], c='red')\n",
    "plt.ylabel('Crime Count for Homicide')\n",
    "plt.xlabel('Month')"
   ]
  },
  {
   "cell_type": "code",
   "execution_count": 111,
   "id": "006a195d",
   "metadata": {},
   "outputs": [
    {
     "data": {
      "text/html": [
       "<div>\n",
       "<style scoped>\n",
       "    .dataframe tbody tr th:only-of-type {\n",
       "        vertical-align: middle;\n",
       "    }\n",
       "\n",
       "    .dataframe tbody tr th {\n",
       "        vertical-align: top;\n",
       "    }\n",
       "\n",
       "    .dataframe thead th {\n",
       "        text-align: right;\n",
       "    }\n",
       "</style>\n",
       "<table border=\"1\" class=\"dataframe\">\n",
       "  <thead>\n",
       "    <tr style=\"text-align: right;\">\n",
       "      <th></th>\n",
       "      <th>dayofweek</th>\n",
       "      <th>OFFENSE</th>\n",
       "    </tr>\n",
       "  </thead>\n",
       "  <tbody>\n",
       "    <tr>\n",
       "      <th>0</th>\n",
       "      <td>0</td>\n",
       "      <td>59</td>\n",
       "    </tr>\n",
       "    <tr>\n",
       "      <th>1</th>\n",
       "      <td>1</td>\n",
       "      <td>49</td>\n",
       "    </tr>\n",
       "    <tr>\n",
       "      <th>2</th>\n",
       "      <td>2</td>\n",
       "      <td>49</td>\n",
       "    </tr>\n",
       "    <tr>\n",
       "      <th>3</th>\n",
       "      <td>3</td>\n",
       "      <td>59</td>\n",
       "    </tr>\n",
       "    <tr>\n",
       "      <th>4</th>\n",
       "      <td>4</td>\n",
       "      <td>71</td>\n",
       "    </tr>\n",
       "  </tbody>\n",
       "</table>\n",
       "</div>"
      ],
      "text/plain": [
       "   dayofweek  OFFENSE\n",
       "0          0       59\n",
       "1          1       49\n",
       "2          2       49\n",
       "3          3       59\n",
       "4          4       71"
      ]
     },
     "execution_count": 111,
     "metadata": {},
     "output_type": "execute_result"
    }
   ],
   "source": [
    "week = model_small_df.groupby('dayofweek')\n",
    "week = week['OFFENSE'].count()\n",
    "week = week.reset_index()\n",
    "week.head()"
   ]
  },
  {
   "cell_type": "code",
   "execution_count": 112,
   "id": "cece450f",
   "metadata": {},
   "outputs": [
    {
     "name": "stdout",
     "output_type": "stream",
     "text": [
      "Shape:  (7, 1) (7, 1)\n"
     ]
    }
   ],
   "source": [
    "\n",
    "X = week.dayofweek.values.reshape(-1, 1)\n",
    "y = week.OFFENSE.values.reshape(-1, 1)\n",
    "\n",
    "print(\"Shape: \", X.shape, y.shape)"
   ]
  },
  {
   "cell_type": "code",
   "execution_count": 113,
   "id": "9b9dfbe2",
   "metadata": {},
   "outputs": [
    {
     "data": {
      "text/plain": [
       "<matplotlib.collections.PathCollection at 0x221deb8a808>"
      ]
     },
     "execution_count": 113,
     "metadata": {},
     "output_type": "execute_result"
    },
    {
     "data": {
      "image/png": "[encoded data removed]",
      "text/plain": [
       "<Figure size 432x288 with 1 Axes>"
      ]
     },
     "metadata": {
      "needs_background": "light"
     },
     "output_type": "display_data"
    }
   ],
   "source": [
    "plt.scatter(X,y)"
   ]
  },
  {
   "cell_type": "code",
   "execution_count": 91,
   "id": "17f1ae42",
   "metadata": {},
   "outputs": [
    {
     "name": "stdout",
     "output_type": "stream",
     "text": [
      "Weight coefficients:  [[1.57142857]]\n",
      "y-axis intercept:  [27.28571429]\n"
     ]
    }
   ],
   "source": [
    "from sklearn.linear_model import LinearRegression\n",
    "model = LinearRegression()\n",
    "model.fit(X, y)\n",
    "print('Weight coefficients: ', model.coef_)\n",
    "print('y-axis intercept: ', model.intercept_)"
   ]
  },
  {
   "cell_type": "code",
   "execution_count": 92,
   "id": "a5a9afe6",
   "metadata": {},
   "outputs": [
    {
     "data": {
      "text/plain": [
       "Text(0.5, 0, 'Week')"
      ]
     },
     "execution_count": 92,
     "metadata": {},
     "output_type": "execute_result"
    },
    {
     "data": {
      "image/png": "[encoded data removed]",
      "text/plain": [
       "<Figure size 432x288 with 1 Axes>"
      ]
     },
     "metadata": {
      "needs_background": "light"
     },
     "output_type": "display_data"
    }
   ],
   "source": [
    "x_min = np.array([[X.min()]])\n",
    "x_max = np.array([[X.max()]])\n",
    "y_min = model.predict(x_min)\n",
    "y_max = model.predict(x_max)\n",
    "plt.scatter(X, y, c='blue')\n",
    "plt.plot([x_min[0], x_max[0]], [y_min[0], y_max[0]], c='red')\n",
    "plt.ylabel('Crime Count for Homicide')\n",
    "plt.xlabel('Week')"
   ]
  },
  {
   "cell_type": "code",
   "execution_count": 117,
   "id": "af90fa3a",
   "metadata": {},
   "outputs": [
    {
     "data": {
      "text/html": [
       "<div>\n",
       "<style scoped>\n",
       "    .dataframe tbody tr th:only-of-type {\n",
       "        vertical-align: middle;\n",
       "    }\n",
       "\n",
       "    .dataframe tbody tr th {\n",
       "        vertical-align: top;\n",
       "    }\n",
       "\n",
       "    .dataframe thead th {\n",
       "        text-align: right;\n",
       "    }\n",
       "</style>\n",
       "<table border=\"1\" class=\"dataframe\">\n",
       "  <thead>\n",
       "    <tr style=\"text-align: right;\">\n",
       "      <th></th>\n",
       "      <th>year</th>\n",
       "      <th>month</th>\n",
       "      <th>day</th>\n",
       "      <th>dayofweek</th>\n",
       "      <th>quarter</th>\n",
       "      <th>CCN</th>\n",
       "      <th>SHIFT</th>\n",
       "      <th>OFFENSE</th>\n",
       "      <th>METHOD</th>\n",
       "      <th>VOTING_PRECINCT</th>\n",
       "      <th>XBLOCK</th>\n",
       "      <th>YBLOCK</th>\n",
       "    </tr>\n",
       "  </thead>\n",
       "  <tbody>\n",
       "    <tr>\n",
       "      <th>86</th>\n",
       "      <td>2021</td>\n",
       "      <td>6</td>\n",
       "      <td>22</td>\n",
       "      <td>1</td>\n",
       "      <td>2</td>\n",
       "      <td>21083649</td>\n",
       "      <td>MIDNIGHT</td>\n",
       "      <td>SEX ABUSE</td>\n",
       "      <td>OTHERS</td>\n",
       "      <td>Precinct 83</td>\n",
       "      <td>400233.79</td>\n",
       "      <td>136927.88</td>\n",
       "    </tr>\n",
       "    <tr>\n",
       "      <th>199</th>\n",
       "      <td>2021</td>\n",
       "      <td>5</td>\n",
       "      <td>14</td>\n",
       "      <td>4</td>\n",
       "      <td>2</td>\n",
       "      <td>21061991</td>\n",
       "      <td>EVENING</td>\n",
       "      <td>SEX ABUSE</td>\n",
       "      <td>GUN</td>\n",
       "      <td>Precinct 67</td>\n",
       "      <td>400166.49</td>\n",
       "      <td>141881.81</td>\n",
       "    </tr>\n",
       "    <tr>\n",
       "      <th>282</th>\n",
       "      <td>2021</td>\n",
       "      <td>5</td>\n",
       "      <td>13</td>\n",
       "      <td>3</td>\n",
       "      <td>2</td>\n",
       "      <td>21062031</td>\n",
       "      <td>EVENING</td>\n",
       "      <td>SEX ABUSE</td>\n",
       "      <td>OTHERS</td>\n",
       "      <td>Precinct 42</td>\n",
       "      <td>397422.72</td>\n",
       "      <td>140620.84</td>\n",
       "    </tr>\n",
       "    <tr>\n",
       "      <th>456</th>\n",
       "      <td>2021</td>\n",
       "      <td>6</td>\n",
       "      <td>26</td>\n",
       "      <td>5</td>\n",
       "      <td>2</td>\n",
       "      <td>21086153</td>\n",
       "      <td>MIDNIGHT</td>\n",
       "      <td>SEX ABUSE</td>\n",
       "      <td>OTHERS</td>\n",
       "      <td>Precinct 144</td>\n",
       "      <td>399272.37</td>\n",
       "      <td>136594.95</td>\n",
       "    </tr>\n",
       "    <tr>\n",
       "      <th>495</th>\n",
       "      <td>2021</td>\n",
       "      <td>5</td>\n",
       "      <td>28</td>\n",
       "      <td>4</td>\n",
       "      <td>2</td>\n",
       "      <td>21070028</td>\n",
       "      <td>MIDNIGHT</td>\n",
       "      <td>SEX ABUSE</td>\n",
       "      <td>OTHERS</td>\n",
       "      <td>Precinct 64</td>\n",
       "      <td>399408.62</td>\n",
       "      <td>144407.60</td>\n",
       "    </tr>\n",
       "  </tbody>\n",
       "</table>\n",
       "</div>"
      ],
      "text/plain": [
       "     year  month  day  dayofweek  quarter       CCN     SHIFT    OFFENSE  \\\n",
       "86   2021      6   22          1        2  21083649  MIDNIGHT  SEX ABUSE   \n",
       "199  2021      5   14          4        2  21061991   EVENING  SEX ABUSE   \n",
       "282  2021      5   13          3        2  21062031   EVENING  SEX ABUSE   \n",
       "456  2021      6   26          5        2  21086153  MIDNIGHT  SEX ABUSE   \n",
       "495  2021      5   28          4        2  21070028  MIDNIGHT  SEX ABUSE   \n",
       "\n",
       "     METHOD VOTING_PRECINCT     XBLOCK     YBLOCK  \n",
       "86   OTHERS     Precinct 83  400233.79  136927.88  \n",
       "199     GUN     Precinct 67  400166.49  141881.81  \n",
       "282  OTHERS     Precinct 42  397422.72  140620.84  \n",
       "456  OTHERS    Precinct 144  399272.37  136594.95  \n",
       "495  OTHERS     Precinct 64  399408.62  144407.60  "
      ]
     },
     "execution_count": 117,
     "metadata": {},
     "output_type": "execute_result"
    }
   ],
   "source": [
    "dc_sexabuse_df = data1.loc[data1['OFFENSE'].isin(['SEX ABUSE'])]\n",
    "dc_sexabuse_df.head()"
   ]
  },
  {
   "cell_type": "code",
   "execution_count": 118,
   "id": "26252b71",
   "metadata": {},
   "outputs": [
    {
     "data": {
      "text/html": [
       "<div>\n",
       "<style scoped>\n",
       "    .dataframe tbody tr th:only-of-type {\n",
       "        vertical-align: middle;\n",
       "    }\n",
       "\n",
       "    .dataframe tbody tr th {\n",
       "        vertical-align: top;\n",
       "    }\n",
       "\n",
       "    .dataframe thead th {\n",
       "        text-align: right;\n",
       "    }\n",
       "</style>\n",
       "<table border=\"1\" class=\"dataframe\">\n",
       "  <thead>\n",
       "    <tr style=\"text-align: right;\">\n",
       "      <th></th>\n",
       "      <th>month</th>\n",
       "      <th>OFFENSE</th>\n",
       "    </tr>\n",
       "  </thead>\n",
       "  <tbody>\n",
       "    <tr>\n",
       "      <th>0</th>\n",
       "      <td>1</td>\n",
       "      <td>30</td>\n",
       "    </tr>\n",
       "    <tr>\n",
       "      <th>1</th>\n",
       "      <td>2</td>\n",
       "      <td>28</td>\n",
       "    </tr>\n",
       "    <tr>\n",
       "      <th>2</th>\n",
       "      <td>3</td>\n",
       "      <td>18</td>\n",
       "    </tr>\n",
       "    <tr>\n",
       "      <th>3</th>\n",
       "      <td>4</td>\n",
       "      <td>23</td>\n",
       "    </tr>\n",
       "    <tr>\n",
       "      <th>4</th>\n",
       "      <td>5</td>\n",
       "      <td>31</td>\n",
       "    </tr>\n",
       "  </tbody>\n",
       "</table>\n",
       "</div>"
      ],
      "text/plain": [
       "   month  OFFENSE\n",
       "0      1       30\n",
       "1      2       28\n",
       "2      3       18\n",
       "3      4       23\n",
       "4      5       31"
      ]
     },
     "execution_count": 118,
     "metadata": {},
     "output_type": "execute_result"
    }
   ],
   "source": [
    "month = dc_sexabuse_df.groupby('month')\n",
    "month = month['OFFENSE'].count()\n",
    "month = month.reset_index()\n",
    "month.head()"
   ]
  },
  {
   "cell_type": "code",
   "execution_count": 119,
   "id": "7a22deec",
   "metadata": {},
   "outputs": [
    {
     "name": "stdout",
     "output_type": "stream",
     "text": [
      "Shape:  (12, 1) (12, 1)\n"
     ]
    }
   ],
   "source": [
    "X = month.month.values.reshape(-1, 1)\n",
    "y = month.OFFENSE.values.reshape(-1, 1)\n",
    "\n",
    "print(\"Shape: \", X.shape, y.shape)"
   ]
  },
  {
   "cell_type": "code",
   "execution_count": 120,
   "id": "fbccd3eb",
   "metadata": {},
   "outputs": [
    {
     "data": {
      "text/plain": [
       "<matplotlib.collections.PathCollection at 0x221dec15148>"
      ]
     },
     "execution_count": 120,
     "metadata": {},
     "output_type": "execute_result"
    },
    {
     "data": {
      "image/png": "[encoded data removed]",
      "text/plain": [
       "<Figure size 432x288 with 1 Axes>"
      ]
     },
     "metadata": {
      "needs_background": "light"
     },
     "output_type": "display_data"
    }
   ],
   "source": [
    "plt.scatter(X, y)"
   ]
  },
  {
   "cell_type": "code",
   "execution_count": 121,
   "id": "b826bca4",
   "metadata": {},
   "outputs": [
    {
     "name": "stdout",
     "output_type": "stream",
     "text": [
      "Weight coefficients:  [[0.4020979]]\n",
      "y-axis intercept:  [27.3030303]\n"
     ]
    }
   ],
   "source": [
    "from sklearn.linear_model import LinearRegression\n",
    "model = LinearRegression()\n",
    "model.fit(X, y)\n",
    "print('Weight coefficients: ', model.coef_)\n",
    "print('y-axis intercept: ', model.intercept_)"
   ]
  },
  {
   "cell_type": "code",
   "execution_count": 122,
   "id": "e823c792",
   "metadata": {},
   "outputs": [
    {
     "data": {
      "text/plain": [
       "Text(0.5, 0, 'Month')"
      ]
     },
     "execution_count": 122,
     "metadata": {},
     "output_type": "execute_result"
    },
    {
     "data": {
      "image/png": "[encoded data removed]",
      "text/plain": [
       "<Figure size 432x288 with 1 Axes>"
      ]
     },
     "metadata": {
      "needs_background": "light"
     },
     "output_type": "display_data"
    }
   ],
   "source": [
    "x_min = np.array([[X.min()]])\n",
    "x_max = np.array([[X.max()]])\n",
    "y_min = model.predict(x_min)\n",
    "y_max = model.predict(x_max)\n",
    "plt.scatter(X, y, c='blue')\n",
    "plt.plot([x_min[0], x_max[0]], [y_min[0], y_max[0]], c='red')\n",
    "plt.ylabel('Crime Count for Sex Abuse')\n",
    "plt.xlabel('Month')"
   ]
  },
  {
   "cell_type": "code",
   "execution_count": 123,
   "id": "47f99fe0",
   "metadata": {},
   "outputs": [
    {
     "data": {
      "text/html": [
       "<div>\n",
       "<style scoped>\n",
       "    .dataframe tbody tr th:only-of-type {\n",
       "        vertical-align: middle;\n",
       "    }\n",
       "\n",
       "    .dataframe tbody tr th {\n",
       "        vertical-align: top;\n",
       "    }\n",
       "\n",
       "    .dataframe thead th {\n",
       "        text-align: right;\n",
       "    }\n",
       "</style>\n",
       "<table border=\"1\" class=\"dataframe\">\n",
       "  <thead>\n",
       "    <tr style=\"text-align: right;\">\n",
       "      <th></th>\n",
       "      <th>dayofweek</th>\n",
       "      <th>OFFENSE</th>\n",
       "    </tr>\n",
       "  </thead>\n",
       "  <tbody>\n",
       "    <tr>\n",
       "      <th>0</th>\n",
       "      <td>0</td>\n",
       "      <td>40</td>\n",
       "    </tr>\n",
       "    <tr>\n",
       "      <th>1</th>\n",
       "      <td>1</td>\n",
       "      <td>47</td>\n",
       "    </tr>\n",
       "    <tr>\n",
       "      <th>2</th>\n",
       "      <td>2</td>\n",
       "      <td>50</td>\n",
       "    </tr>\n",
       "    <tr>\n",
       "      <th>3</th>\n",
       "      <td>3</td>\n",
       "      <td>49</td>\n",
       "    </tr>\n",
       "    <tr>\n",
       "      <th>4</th>\n",
       "      <td>4</td>\n",
       "      <td>75</td>\n",
       "    </tr>\n",
       "  </tbody>\n",
       "</table>\n",
       "</div>"
      ],
      "text/plain": [
       "   dayofweek  OFFENSE\n",
       "0          0       40\n",
       "1          1       47\n",
       "2          2       50\n",
       "3          3       49\n",
       "4          4       75"
      ]
     },
     "execution_count": 123,
     "metadata": {},
     "output_type": "execute_result"
    }
   ],
   "source": [
    "week = dc_sexabuse_df.groupby('dayofweek')\n",
    "week = week['OFFENSE'].count()\n",
    "week = week.reset_index()\n",
    "week.head()"
   ]
  },
  {
   "cell_type": "code",
   "execution_count": 124,
   "id": "b8752d8d",
   "metadata": {},
   "outputs": [
    {
     "name": "stdout",
     "output_type": "stream",
     "text": [
      "Shape:  (7, 1) (7, 1)\n"
     ]
    }
   ],
   "source": [
    "X = week.dayofweek.values.reshape(-1, 1)\n",
    "y = week.OFFENSE.values.reshape(-1, 1)\n",
    "\n",
    "print(\"Shape: \", X.shape, y.shape)"
   ]
  },
  {
   "cell_type": "code",
   "execution_count": 125,
   "id": "e56208c4",
   "metadata": {},
   "outputs": [
    {
     "data": {
      "text/plain": [
       "<matplotlib.collections.PathCollection at 0x221e072b448>"
      ]
     },
     "execution_count": 125,
     "metadata": {},
     "output_type": "execute_result"
    },
    {
     "data": {
      "image/png": "[encoded data removed]",
      "text/plain": [
       "<Figure size 432x288 with 1 Axes>"
      ]
     },
     "metadata": {
      "needs_background": "light"
     },
     "output_type": "display_data"
    }
   ],
   "source": [
    "plt.scatter(X, y)"
   ]
  },
  {
   "cell_type": "code",
   "execution_count": 126,
   "id": "37618d47",
   "metadata": {},
   "outputs": [
    {
     "name": "stdout",
     "output_type": "stream",
     "text": [
      "Weight coefficients:  [[2.25]]\n",
      "y-axis intercept:  [44.53571429]\n"
     ]
    }
   ],
   "source": [
    "from sklearn.linear_model import LinearRegression\n",
    "model = LinearRegression()\n",
    "model.fit(X, y)\n",
    "print('Weight coefficients: ', model.coef_)\n",
    "print('y-axis intercept: ', model.intercept_)"
   ]
  },
  {
   "cell_type": "code",
   "execution_count": 127,
   "id": "f3758f1b",
   "metadata": {},
   "outputs": [
    {
     "data": {
      "text/plain": [
       "Text(0.5, 0, 'Week')"
      ]
     },
     "execution_count": 127,
     "metadata": {},
     "output_type": "execute_result"
    },
    {
     "data": {
      "image/png": "[encoded data removed]",
      "text/plain": [
       "<Figure size 432x288 with 1 Axes>"
      ]
     },
     "metadata": {
      "needs_background": "light"
     },
     "output_type": "display_data"
    }
   ],
   "source": [
    "x_min = np.array([[X.min()]])\n",
    "x_max = np.array([[X.max()]])\n",
    "y_min = model.predict(x_min)\n",
    "y_max = model.predict(x_max)\n",
    "plt.scatter(X, y, c='blue')\n",
    "plt.plot([x_min[0], x_max[0]], [y_min[0], y_max[0]], c='red')\n",
    "plt.ylabel('Crime Count for Sex Abuse')\n",
    "plt.xlabel('Week')"
   ]
  },
  {
   "cell_type": "code",
   "execution_count": 211,
   "id": "d185067d",
   "metadata": {},
   "outputs": [
    {
     "data": {
      "text/html": [
       "<div>\n",
       "<style scoped>\n",
       "    .dataframe tbody tr th:only-of-type {\n",
       "        vertical-align: middle;\n",
       "    }\n",
       "\n",
       "    .dataframe tbody tr th {\n",
       "        vertical-align: top;\n",
       "    }\n",
       "\n",
       "    .dataframe thead th {\n",
       "        text-align: right;\n",
       "    }\n",
       "</style>\n",
       "<table border=\"1\" class=\"dataframe\">\n",
       "  <thead>\n",
       "    <tr style=\"text-align: right;\">\n",
       "      <th></th>\n",
       "      <th>year</th>\n",
       "      <th>month</th>\n",
       "      <th>day</th>\n",
       "      <th>dayofweek</th>\n",
       "      <th>quarter</th>\n",
       "      <th>CCN</th>\n",
       "      <th>OFFENSE</th>\n",
       "      <th>PSA</th>\n",
       "      <th>SHIFT</th>\n",
       "      <th>METHOD</th>\n",
       "      <th>VOTING_PRECINCT</th>\n",
       "      <th>XBLOCK</th>\n",
       "      <th>YBLOCK</th>\n",
       "    </tr>\n",
       "  </thead>\n",
       "  <tbody>\n",
       "    <tr>\n",
       "      <th>5</th>\n",
       "      <td>2020</td>\n",
       "      <td>1</td>\n",
       "      <td>1</td>\n",
       "      <td>2</td>\n",
       "      <td>1</td>\n",
       "      <td>20000205</td>\n",
       "      <td>ROBBERY</td>\n",
       "      <td>503.0</td>\n",
       "      <td>MIDNIGHT</td>\n",
       "      <td>OTHERS</td>\n",
       "      <td>Precinct 69</td>\n",
       "      <td>403053.650000</td>\n",
       "      <td>140739.910000</td>\n",
       "    </tr>\n",
       "    <tr>\n",
       "      <th>10</th>\n",
       "      <td>2020</td>\n",
       "      <td>1</td>\n",
       "      <td>1</td>\n",
       "      <td>2</td>\n",
       "      <td>1</td>\n",
       "      <td>20000268</td>\n",
       "      <td>ROBBERY</td>\n",
       "      <td>602.0</td>\n",
       "      <td>DAY</td>\n",
       "      <td>GUN</td>\n",
       "      <td>Precinct 99</td>\n",
       "      <td>404166.658690</td>\n",
       "      <td>136422.274524</td>\n",
       "    </tr>\n",
       "    <tr>\n",
       "      <th>20</th>\n",
       "      <td>2020</td>\n",
       "      <td>1</td>\n",
       "      <td>24</td>\n",
       "      <td>4</td>\n",
       "      <td>1</td>\n",
       "      <td>20014134</td>\n",
       "      <td>ROBBERY</td>\n",
       "      <td>706.0</td>\n",
       "      <td>MIDNIGHT</td>\n",
       "      <td>GUN</td>\n",
       "      <td>Precinct 125</td>\n",
       "      <td>400331.983838</td>\n",
       "      <td>129143.851349</td>\n",
       "    </tr>\n",
       "    <tr>\n",
       "      <th>30</th>\n",
       "      <td>2020</td>\n",
       "      <td>1</td>\n",
       "      <td>24</td>\n",
       "      <td>4</td>\n",
       "      <td>1</td>\n",
       "      <td>20014284</td>\n",
       "      <td>ROBBERY</td>\n",
       "      <td>602.0</td>\n",
       "      <td>DAY</td>\n",
       "      <td>OTHERS</td>\n",
       "      <td>Precinct 93</td>\n",
       "      <td>405704.800000</td>\n",
       "      <td>137226.650000</td>\n",
       "    </tr>\n",
       "    <tr>\n",
       "      <th>32</th>\n",
       "      <td>2020</td>\n",
       "      <td>1</td>\n",
       "      <td>24</td>\n",
       "      <td>4</td>\n",
       "      <td>1</td>\n",
       "      <td>20014307</td>\n",
       "      <td>ROBBERY</td>\n",
       "      <td>405.0</td>\n",
       "      <td>DAY</td>\n",
       "      <td>OTHERS</td>\n",
       "      <td>Precinct 44</td>\n",
       "      <td>399362.970000</td>\n",
       "      <td>142931.140000</td>\n",
       "    </tr>\n",
       "  </tbody>\n",
       "</table>\n",
       "</div>"
      ],
      "text/plain": [
       "    year  month  day  dayofweek  quarter       CCN  OFFENSE    PSA     SHIFT  \\\n",
       "5   2020      1    1          2        1  20000205  ROBBERY  503.0  MIDNIGHT   \n",
       "10  2020      1    1          2        1  20000268  ROBBERY  602.0       DAY   \n",
       "20  2020      1   24          4        1  20014134  ROBBERY  706.0  MIDNIGHT   \n",
       "30  2020      1   24          4        1  20014284  ROBBERY  602.0       DAY   \n",
       "32  2020      1   24          4        1  20014307  ROBBERY  405.0       DAY   \n",
       "\n",
       "    METHOD VOTING_PRECINCT         XBLOCK         YBLOCK  \n",
       "5   OTHERS     Precinct 69  403053.650000  140739.910000  \n",
       "10     GUN     Precinct 99  404166.658690  136422.274524  \n",
       "20     GUN    Precinct 125  400331.983838  129143.851349  \n",
       "30  OTHERS     Precinct 93  405704.800000  137226.650000  \n",
       "32  OTHERS     Precinct 44  399362.970000  142931.140000  "
      ]
     },
     "execution_count": 211,
     "metadata": {},
     "output_type": "execute_result"
    }
   ],
   "source": [
    "dc_robbery_df = data1.loc[data1['OFFENSE'].isin(['ROBBERY'])]\n",
    "dc_robbery_df.head()"
   ]
  },
  {
   "cell_type": "code",
   "execution_count": 129,
   "id": "0e113ff8",
   "metadata": {},
   "outputs": [
    {
     "data": {
      "text/html": [
       "<div>\n",
       "<style scoped>\n",
       "    .dataframe tbody tr th:only-of-type {\n",
       "        vertical-align: middle;\n",
       "    }\n",
       "\n",
       "    .dataframe tbody tr th {\n",
       "        vertical-align: top;\n",
       "    }\n",
       "\n",
       "    .dataframe thead th {\n",
       "        text-align: right;\n",
       "    }\n",
       "</style>\n",
       "<table border=\"1\" class=\"dataframe\">\n",
       "  <thead>\n",
       "    <tr style=\"text-align: right;\">\n",
       "      <th></th>\n",
       "      <th>month</th>\n",
       "      <th>OFFENSE</th>\n",
       "    </tr>\n",
       "  </thead>\n",
       "  <tbody>\n",
       "    <tr>\n",
       "      <th>0</th>\n",
       "      <td>1</td>\n",
       "      <td>362</td>\n",
       "    </tr>\n",
       "    <tr>\n",
       "      <th>1</th>\n",
       "      <td>2</td>\n",
       "      <td>268</td>\n",
       "    </tr>\n",
       "    <tr>\n",
       "      <th>2</th>\n",
       "      <td>3</td>\n",
       "      <td>212</td>\n",
       "    </tr>\n",
       "    <tr>\n",
       "      <th>3</th>\n",
       "      <td>4</td>\n",
       "      <td>211</td>\n",
       "    </tr>\n",
       "    <tr>\n",
       "      <th>4</th>\n",
       "      <td>5</td>\n",
       "      <td>241</td>\n",
       "    </tr>\n",
       "  </tbody>\n",
       "</table>\n",
       "</div>"
      ],
      "text/plain": [
       "   month  OFFENSE\n",
       "0      1      362\n",
       "1      2      268\n",
       "2      3      212\n",
       "3      4      211\n",
       "4      5      241"
      ]
     },
     "execution_count": 129,
     "metadata": {},
     "output_type": "execute_result"
    }
   ],
   "source": [
    "month = dc_robbery_df.groupby('month')\n",
    "month = month['OFFENSE'].count()\n",
    "month = month.reset_index()\n",
    "month.head()"
   ]
  },
  {
   "cell_type": "code",
   "execution_count": 130,
   "id": "dda458b7",
   "metadata": {},
   "outputs": [
    {
     "name": "stdout",
     "output_type": "stream",
     "text": [
      "Shape:  (12, 1) (12, 1)\n"
     ]
    }
   ],
   "source": [
    "X = month.month.values.reshape(-1, 1)\n",
    "y = month.OFFENSE.values.reshape(-1, 1)\n",
    "\n",
    "print(\"Shape: \", X.shape, y.shape)"
   ]
  },
  {
   "cell_type": "code",
   "execution_count": 131,
   "id": "e584461b",
   "metadata": {},
   "outputs": [
    {
     "data": {
      "text/plain": [
       "<matplotlib.collections.PathCollection at 0x221e3890c08>"
      ]
     },
     "execution_count": 131,
     "metadata": {},
     "output_type": "execute_result"
    },
    {
     "data": {
      "image/png": "[encoded data removed]",
      "text/plain": [
       "<Figure size 432x288 with 1 Axes>"
      ]
     },
     "metadata": {
      "needs_background": "light"
     },
     "output_type": "display_data"
    }
   ],
   "source": [
    "plt.scatter(X, y)"
   ]
  },
  {
   "cell_type": "code",
   "execution_count": 132,
   "id": "fa5018bc",
   "metadata": {},
   "outputs": [
    {
     "name": "stdout",
     "output_type": "stream",
     "text": [
      "Weight coefficients:  [[15.21678322]]\n",
      "y-axis intercept:  [236.92424242]\n"
     ]
    }
   ],
   "source": [
    "from sklearn.linear_model import LinearRegression\n",
    "model = LinearRegression()\n",
    "model.fit(X, y)\n",
    "print('Weight coefficients: ', model.coef_)\n",
    "print('y-axis intercept: ', model.intercept_)"
   ]
  },
  {
   "cell_type": "code",
   "execution_count": 133,
   "id": "8b912c14",
   "metadata": {},
   "outputs": [
    {
     "data": {
      "text/plain": [
       "Text(0.5, 0, 'Month')"
      ]
     },
     "execution_count": 133,
     "metadata": {},
     "output_type": "execute_result"
    },
    {
     "data": {
      "image/png": "[encoded data removed]",
      "text/plain": [
       "<Figure size 432x288 with 1 Axes>"
      ]
     },
     "metadata": {
      "needs_background": "light"
     },
     "output_type": "display_data"
    }
   ],
   "source": [
    "x_min = np.array([[X.min()]])\n",
    "x_max = np.array([[X.max()]])\n",
    "y_min = model.predict(x_min)\n",
    "y_max = model.predict(x_max)\n",
    "plt.scatter(X, y, c='blue')\n",
    "plt.plot([x_min[0], x_max[0]], [y_min[0], y_max[0]], c='red')\n",
    "plt.ylabel('Crime Count for Robbery')\n",
    "plt.xlabel('Month')"
   ]
  },
  {
   "cell_type": "code",
   "execution_count": 134,
   "id": "9a30444c",
   "metadata": {},
   "outputs": [
    {
     "data": {
      "text/html": [
       "<div>\n",
       "<style scoped>\n",
       "    .dataframe tbody tr th:only-of-type {\n",
       "        vertical-align: middle;\n",
       "    }\n",
       "\n",
       "    .dataframe tbody tr th {\n",
       "        vertical-align: top;\n",
       "    }\n",
       "\n",
       "    .dataframe thead th {\n",
       "        text-align: right;\n",
       "    }\n",
       "</style>\n",
       "<table border=\"1\" class=\"dataframe\">\n",
       "  <thead>\n",
       "    <tr style=\"text-align: right;\">\n",
       "      <th></th>\n",
       "      <th>dayofweek</th>\n",
       "      <th>OFFENSE</th>\n",
       "    </tr>\n",
       "  </thead>\n",
       "  <tbody>\n",
       "    <tr>\n",
       "      <th>0</th>\n",
       "      <td>0</td>\n",
       "      <td>563</td>\n",
       "    </tr>\n",
       "    <tr>\n",
       "      <th>1</th>\n",
       "      <td>1</td>\n",
       "      <td>575</td>\n",
       "    </tr>\n",
       "    <tr>\n",
       "      <th>2</th>\n",
       "      <td>2</td>\n",
       "      <td>550</td>\n",
       "    </tr>\n",
       "    <tr>\n",
       "      <th>3</th>\n",
       "      <td>3</td>\n",
       "      <td>533</td>\n",
       "    </tr>\n",
       "    <tr>\n",
       "      <th>4</th>\n",
       "      <td>4</td>\n",
       "      <td>533</td>\n",
       "    </tr>\n",
       "  </tbody>\n",
       "</table>\n",
       "</div>"
      ],
      "text/plain": [
       "   dayofweek  OFFENSE\n",
       "0          0      563\n",
       "1          1      575\n",
       "2          2      550\n",
       "3          3      533\n",
       "4          4      533"
      ]
     },
     "execution_count": 134,
     "metadata": {},
     "output_type": "execute_result"
    }
   ],
   "source": [
    "week = dc_robbery_df.groupby('dayofweek')\n",
    "week = week['OFFENSE'].count()\n",
    "week = week.reset_index()\n",
    "week.head()"
   ]
  },
  {
   "cell_type": "code",
   "execution_count": 135,
   "id": "8235caa6",
   "metadata": {},
   "outputs": [
    {
     "name": "stdout",
     "output_type": "stream",
     "text": [
      "Shape:  (7, 1) (7, 1)\n"
     ]
    }
   ],
   "source": [
    "X = week.dayofweek.values.reshape(-1, 1)\n",
    "y = week.OFFENSE.values.reshape(-1, 1)\n",
    "\n",
    "print(\"Shape: \", X.shape, y.shape)"
   ]
  },
  {
   "cell_type": "code",
   "execution_count": 136,
   "id": "322faa80",
   "metadata": {},
   "outputs": [
    {
     "data": {
      "text/plain": [
       "<matplotlib.collections.PathCollection at 0x221e3a06388>"
      ]
     },
     "execution_count": 136,
     "metadata": {},
     "output_type": "execute_result"
    },
    {
     "data": {
      "image/png": "[encoded data removed]",
      "text/plain": [
       "<Figure size 432x288 with 1 Axes>"
      ]
     },
     "metadata": {
      "needs_background": "light"
     },
     "output_type": "display_data"
    }
   ],
   "source": [
    "plt.scatter(X, y)"
   ]
  },
  {
   "cell_type": "code",
   "execution_count": 137,
   "id": "e22ace3b",
   "metadata": {},
   "outputs": [
    {
     "name": "stdout",
     "output_type": "stream",
     "text": [
      "Weight coefficients:  [[12.28571429]]\n",
      "y-axis intercept:  [538.85714286]\n"
     ]
    }
   ],
   "source": [
    "from sklearn.linear_model import LinearRegression\n",
    "model = LinearRegression()\n",
    "model.fit(X, y)\n",
    "print('Weight coefficients: ', model.coef_)\n",
    "print('y-axis intercept: ', model.intercept_)"
   ]
  },
  {
   "cell_type": "code",
   "execution_count": 138,
   "id": "a85048ec",
   "metadata": {},
   "outputs": [
    {
     "data": {
      "text/plain": [
       "Text(0.5, 0, 'Week')"
      ]
     },
     "execution_count": 138,
     "metadata": {},
     "output_type": "execute_result"
    },
    {
     "data": {
      "image/png": "[encoded data removed]",
      "text/plain": [
       "<Figure size 432x288 with 1 Axes>"
      ]
     },
     "metadata": {
      "needs_background": "light"
     },
     "output_type": "display_data"
    }
   ],
   "source": [
    "x_min = np.array([[X.min()]])\n",
    "x_max = np.array([[X.max()]])\n",
    "y_min = model.predict(x_min)\n",
    "y_max = model.predict(x_max)\n",
    "plt.scatter(X, y, c='blue')\n",
    "plt.plot([x_min[0], x_max[0]], [y_min[0], y_max[0]], c='red')\n",
    "plt.ylabel('Crime Count for Robbery')\n",
    "plt.xlabel('Week')"
   ]
  },
  {
   "cell_type": "markdown",
   "id": "1d6b421a",
   "metadata": {},
   "source": [
    "## Logistic Regression Model"
   ]
  },
  {
   "cell_type": "code",
   "execution_count": 265,
   "id": "0c84e8bc",
   "metadata": {},
   "outputs": [
    {
     "data": {
      "text/html": [
       "<div>\n",
       "<style scoped>\n",
       "    .dataframe tbody tr th:only-of-type {\n",
       "        vertical-align: middle;\n",
       "    }\n",
       "\n",
       "    .dataframe tbody tr th {\n",
       "        vertical-align: top;\n",
       "    }\n",
       "\n",
       "    .dataframe thead th {\n",
       "        text-align: right;\n",
       "    }\n",
       "</style>\n",
       "<table border=\"1\" class=\"dataframe\">\n",
       "  <thead>\n",
       "    <tr style=\"text-align: right;\">\n",
       "      <th></th>\n",
       "      <th>year</th>\n",
       "      <th>month</th>\n",
       "      <th>day</th>\n",
       "      <th>dayofweek</th>\n",
       "      <th>quarter</th>\n",
       "      <th>CCN</th>\n",
       "      <th>SHIFT</th>\n",
       "      <th>OFFENSE</th>\n",
       "      <th>METHOD</th>\n",
       "      <th>VOTING_PRECINCT</th>\n",
       "      <th>XBLOCK</th>\n",
       "      <th>YBLOCK</th>\n",
       "      <th>PSA</th>\n",
       "      <th>REGION</th>\n",
       "    </tr>\n",
       "  </thead>\n",
       "  <tbody>\n",
       "    <tr>\n",
       "      <th>0</th>\n",
       "      <td>2021</td>\n",
       "      <td>12</td>\n",
       "      <td>6</td>\n",
       "      <td>0</td>\n",
       "      <td>4</td>\n",
       "      <td>20139232</td>\n",
       "      <td>MIDNIGHT</td>\n",
       "      <td>HOMICIDE</td>\n",
       "      <td>GUN</td>\n",
       "      <td>Precinct 46</td>\n",
       "      <td>398576.16</td>\n",
       "      <td>141939.53</td>\n",
       "      <td>407.0</td>\n",
       "      <td>North</td>\n",
       "    </tr>\n",
       "    <tr>\n",
       "      <th>1</th>\n",
       "      <td>2021</td>\n",
       "      <td>10</td>\n",
       "      <td>13</td>\n",
       "      <td>2</td>\n",
       "      <td>4</td>\n",
       "      <td>11048862</td>\n",
       "      <td>EVENING</td>\n",
       "      <td>THEFT F/AUTO</td>\n",
       "      <td>OTHERS</td>\n",
       "      <td>Precinct 27</td>\n",
       "      <td>394049.03</td>\n",
       "      <td>140468.17</td>\n",
       "      <td>204.0</td>\n",
       "      <td>North</td>\n",
       "    </tr>\n",
       "    <tr>\n",
       "      <th>2</th>\n",
       "      <td>2021</td>\n",
       "      <td>8</td>\n",
       "      <td>4</td>\n",
       "      <td>2</td>\n",
       "      <td>3</td>\n",
       "      <td>10008883</td>\n",
       "      <td>EVENING</td>\n",
       "      <td>THEFT/OTHER</td>\n",
       "      <td>OTHERS</td>\n",
       "      <td>Precinct 105</td>\n",
       "      <td>406401.56</td>\n",
       "      <td>135172.74</td>\n",
       "      <td>604.0</td>\n",
       "      <td>South</td>\n",
       "    </tr>\n",
       "    <tr>\n",
       "      <th>3</th>\n",
       "      <td>2021</td>\n",
       "      <td>9</td>\n",
       "      <td>1</td>\n",
       "      <td>2</td>\n",
       "      <td>3</td>\n",
       "      <td>11124202</td>\n",
       "      <td>DAY</td>\n",
       "      <td>THEFT/OTHER</td>\n",
       "      <td>OTHERS</td>\n",
       "      <td>Precinct 77</td>\n",
       "      <td>400924.55</td>\n",
       "      <td>137563.02</td>\n",
       "      <td>506.0</td>\n",
       "      <td>North</td>\n",
       "    </tr>\n",
       "    <tr>\n",
       "      <th>4</th>\n",
       "      <td>2021</td>\n",
       "      <td>8</td>\n",
       "      <td>12</td>\n",
       "      <td>3</td>\n",
       "      <td>3</td>\n",
       "      <td>12113231</td>\n",
       "      <td>DAY</td>\n",
       "      <td>THEFT/OTHER</td>\n",
       "      <td>OTHERS</td>\n",
       "      <td>Precinct 76</td>\n",
       "      <td>401249.74</td>\n",
       "      <td>138295.18</td>\n",
       "      <td>506.0</td>\n",
       "      <td>North</td>\n",
       "    </tr>\n",
       "  </tbody>\n",
       "</table>\n",
       "</div>"
      ],
      "text/plain": [
       "   year  month  day  dayofweek  quarter       CCN     SHIFT       OFFENSE  \\\n",
       "0  2021     12    6          0        4  20139232  MIDNIGHT      HOMICIDE   \n",
       "1  2021     10   13          2        4  11048862   EVENING  THEFT F/AUTO   \n",
       "2  2021      8    4          2        3  10008883   EVENING   THEFT/OTHER   \n",
       "3  2021      9    1          2        3  11124202       DAY   THEFT/OTHER   \n",
       "4  2021      8   12          3        3  12113231       DAY   THEFT/OTHER   \n",
       "\n",
       "   METHOD VOTING_PRECINCT     XBLOCK     YBLOCK    PSA REGION  \n",
       "0     GUN     Precinct 46  398576.16  141939.53  407.0  North  \n",
       "1  OTHERS     Precinct 27  394049.03  140468.17  204.0  North  \n",
       "2  OTHERS    Precinct 105  406401.56  135172.74  604.0  South  \n",
       "3  OTHERS     Precinct 77  400924.55  137563.02  506.0  North  \n",
       "4  OTHERS     Precinct 76  401249.74  138295.18  506.0  North  "
      ]
     },
     "execution_count": 265,
     "metadata": {},
     "output_type": "execute_result"
    }
   ],
   "source": [
    "data1.head()"
   ]
  },
  {
   "cell_type": "code",
   "execution_count": 269,
   "id": "67425797",
   "metadata": {},
   "outputs": [],
   "source": [
    "model_small_df = data1[['SHIFT','OFFENSE','METHOD','REGION']]"
   ]
  },
  {
   "cell_type": "code",
   "execution_count": 270,
   "id": "93589c54",
   "metadata": {},
   "outputs": [
    {
     "data": {
      "text/html": [
       "<div>\n",
       "<style scoped>\n",
       "    .dataframe tbody tr th:only-of-type {\n",
       "        vertical-align: middle;\n",
       "    }\n",
       "\n",
       "    .dataframe tbody tr th {\n",
       "        vertical-align: top;\n",
       "    }\n",
       "\n",
       "    .dataframe thead th {\n",
       "        text-align: right;\n",
       "    }\n",
       "</style>\n",
       "<table border=\"1\" class=\"dataframe\">\n",
       "  <thead>\n",
       "    <tr style=\"text-align: right;\">\n",
       "      <th></th>\n",
       "      <th>SHIFT</th>\n",
       "      <th>OFFENSE</th>\n",
       "      <th>METHOD</th>\n",
       "      <th>REGION</th>\n",
       "    </tr>\n",
       "  </thead>\n",
       "  <tbody>\n",
       "    <tr>\n",
       "      <th>0</th>\n",
       "      <td>MIDNIGHT</td>\n",
       "      <td>HOMICIDE</td>\n",
       "      <td>GUN</td>\n",
       "      <td>North</td>\n",
       "    </tr>\n",
       "    <tr>\n",
       "      <th>1</th>\n",
       "      <td>EVENING</td>\n",
       "      <td>THEFT F/AUTO</td>\n",
       "      <td>OTHERS</td>\n",
       "      <td>North</td>\n",
       "    </tr>\n",
       "    <tr>\n",
       "      <th>2</th>\n",
       "      <td>EVENING</td>\n",
       "      <td>THEFT/OTHER</td>\n",
       "      <td>OTHERS</td>\n",
       "      <td>South</td>\n",
       "    </tr>\n",
       "    <tr>\n",
       "      <th>3</th>\n",
       "      <td>DAY</td>\n",
       "      <td>THEFT/OTHER</td>\n",
       "      <td>OTHERS</td>\n",
       "      <td>North</td>\n",
       "    </tr>\n",
       "    <tr>\n",
       "      <th>4</th>\n",
       "      <td>DAY</td>\n",
       "      <td>THEFT/OTHER</td>\n",
       "      <td>OTHERS</td>\n",
       "      <td>North</td>\n",
       "    </tr>\n",
       "    <tr>\n",
       "      <th>...</th>\n",
       "      <td>...</td>\n",
       "      <td>...</td>\n",
       "      <td>...</td>\n",
       "      <td>...</td>\n",
       "    </tr>\n",
       "    <tr>\n",
       "      <th>27905</th>\n",
       "      <td>MIDNIGHT</td>\n",
       "      <td>THEFT F/AUTO</td>\n",
       "      <td>OTHERS</td>\n",
       "      <td>North</td>\n",
       "    </tr>\n",
       "    <tr>\n",
       "      <th>27906</th>\n",
       "      <td>DAY</td>\n",
       "      <td>THEFT/OTHER</td>\n",
       "      <td>OTHERS</td>\n",
       "      <td>South</td>\n",
       "    </tr>\n",
       "    <tr>\n",
       "      <th>27907</th>\n",
       "      <td>DAY</td>\n",
       "      <td>THEFT F/AUTO</td>\n",
       "      <td>OTHERS</td>\n",
       "      <td>South</td>\n",
       "    </tr>\n",
       "    <tr>\n",
       "      <th>27908</th>\n",
       "      <td>DAY</td>\n",
       "      <td>THEFT F/AUTO</td>\n",
       "      <td>OTHERS</td>\n",
       "      <td>North</td>\n",
       "    </tr>\n",
       "    <tr>\n",
       "      <th>27909</th>\n",
       "      <td>DAY</td>\n",
       "      <td>THEFT F/AUTO</td>\n",
       "      <td>OTHERS</td>\n",
       "      <td>South</td>\n",
       "    </tr>\n",
       "  </tbody>\n",
       "</table>\n",
       "<p>56008 rows × 4 columns</p>\n",
       "</div>"
      ],
      "text/plain": [
       "          SHIFT       OFFENSE  METHOD REGION\n",
       "0      MIDNIGHT      HOMICIDE     GUN  North\n",
       "1       EVENING  THEFT F/AUTO  OTHERS  North\n",
       "2       EVENING   THEFT/OTHER  OTHERS  South\n",
       "3           DAY   THEFT/OTHER  OTHERS  North\n",
       "4           DAY   THEFT/OTHER  OTHERS  North\n",
       "...         ...           ...     ...    ...\n",
       "27905  MIDNIGHT  THEFT F/AUTO  OTHERS  North\n",
       "27906       DAY   THEFT/OTHER  OTHERS  South\n",
       "27907       DAY  THEFT F/AUTO  OTHERS  South\n",
       "27908       DAY  THEFT F/AUTO  OTHERS  North\n",
       "27909       DAY  THEFT F/AUTO  OTHERS  South\n",
       "\n",
       "[56008 rows x 4 columns]"
      ]
     },
     "execution_count": 270,
     "metadata": {},
     "output_type": "execute_result"
    }
   ],
   "source": [
    "model_small_df"
   ]
  },
  {
   "cell_type": "code",
   "execution_count": 273,
   "id": "8ebcb5cd",
   "metadata": {},
   "outputs": [
    {
     "data": {
      "text/html": [
       "<div>\n",
       "<style scoped>\n",
       "    .dataframe tbody tr th:only-of-type {\n",
       "        vertical-align: middle;\n",
       "    }\n",
       "\n",
       "    .dataframe tbody tr th {\n",
       "        vertical-align: top;\n",
       "    }\n",
       "\n",
       "    .dataframe thead th {\n",
       "        text-align: right;\n",
       "    }\n",
       "</style>\n",
       "<table border=\"1\" class=\"dataframe\">\n",
       "  <thead>\n",
       "    <tr style=\"text-align: right;\">\n",
       "      <th></th>\n",
       "      <th>SHIFT_EVENING</th>\n",
       "      <th>SHIFT_MIDNIGHT</th>\n",
       "      <th>OFFENSE_ASSAULT W/DANGEROUS WEAPON</th>\n",
       "      <th>OFFENSE_BURGLARY</th>\n",
       "      <th>OFFENSE_HOMICIDE</th>\n",
       "      <th>OFFENSE_MOTOR VEHICLE THEFT</th>\n",
       "      <th>OFFENSE_ROBBERY</th>\n",
       "      <th>OFFENSE_SEX ABUSE</th>\n",
       "      <th>OFFENSE_THEFT F/AUTO</th>\n",
       "      <th>OFFENSE_THEFT/OTHER</th>\n",
       "      <th>METHOD_KNIFE</th>\n",
       "      <th>METHOD_OTHERS</th>\n",
       "      <th>REGION_South</th>\n",
       "    </tr>\n",
       "  </thead>\n",
       "  <tbody>\n",
       "    <tr>\n",
       "      <th>0</th>\n",
       "      <td>0</td>\n",
       "      <td>1</td>\n",
       "      <td>0</td>\n",
       "      <td>0</td>\n",
       "      <td>1</td>\n",
       "      <td>0</td>\n",
       "      <td>0</td>\n",
       "      <td>0</td>\n",
       "      <td>0</td>\n",
       "      <td>0</td>\n",
       "      <td>0</td>\n",
       "      <td>0</td>\n",
       "      <td>0</td>\n",
       "    </tr>\n",
       "    <tr>\n",
       "      <th>1</th>\n",
       "      <td>1</td>\n",
       "      <td>0</td>\n",
       "      <td>0</td>\n",
       "      <td>0</td>\n",
       "      <td>0</td>\n",
       "      <td>0</td>\n",
       "      <td>0</td>\n",
       "      <td>0</td>\n",
       "      <td>1</td>\n",
       "      <td>0</td>\n",
       "      <td>0</td>\n",
       "      <td>1</td>\n",
       "      <td>0</td>\n",
       "    </tr>\n",
       "    <tr>\n",
       "      <th>2</th>\n",
       "      <td>1</td>\n",
       "      <td>0</td>\n",
       "      <td>0</td>\n",
       "      <td>0</td>\n",
       "      <td>0</td>\n",
       "      <td>0</td>\n",
       "      <td>0</td>\n",
       "      <td>0</td>\n",
       "      <td>0</td>\n",
       "      <td>1</td>\n",
       "      <td>0</td>\n",
       "      <td>1</td>\n",
       "      <td>1</td>\n",
       "    </tr>\n",
       "    <tr>\n",
       "      <th>3</th>\n",
       "      <td>0</td>\n",
       "      <td>0</td>\n",
       "      <td>0</td>\n",
       "      <td>0</td>\n",
       "      <td>0</td>\n",
       "      <td>0</td>\n",
       "      <td>0</td>\n",
       "      <td>0</td>\n",
       "      <td>0</td>\n",
       "      <td>1</td>\n",
       "      <td>0</td>\n",
       "      <td>1</td>\n",
       "      <td>0</td>\n",
       "    </tr>\n",
       "    <tr>\n",
       "      <th>4</th>\n",
       "      <td>0</td>\n",
       "      <td>0</td>\n",
       "      <td>0</td>\n",
       "      <td>0</td>\n",
       "      <td>0</td>\n",
       "      <td>0</td>\n",
       "      <td>0</td>\n",
       "      <td>0</td>\n",
       "      <td>0</td>\n",
       "      <td>1</td>\n",
       "      <td>0</td>\n",
       "      <td>1</td>\n",
       "      <td>0</td>\n",
       "    </tr>\n",
       "    <tr>\n",
       "      <th>...</th>\n",
       "      <td>...</td>\n",
       "      <td>...</td>\n",
       "      <td>...</td>\n",
       "      <td>...</td>\n",
       "      <td>...</td>\n",
       "      <td>...</td>\n",
       "      <td>...</td>\n",
       "      <td>...</td>\n",
       "      <td>...</td>\n",
       "      <td>...</td>\n",
       "      <td>...</td>\n",
       "      <td>...</td>\n",
       "      <td>...</td>\n",
       "    </tr>\n",
       "    <tr>\n",
       "      <th>27905</th>\n",
       "      <td>0</td>\n",
       "      <td>1</td>\n",
       "      <td>0</td>\n",
       "      <td>0</td>\n",
       "      <td>0</td>\n",
       "      <td>0</td>\n",
       "      <td>0</td>\n",
       "      <td>0</td>\n",
       "      <td>1</td>\n",
       "      <td>0</td>\n",
       "      <td>0</td>\n",
       "      <td>1</td>\n",
       "      <td>0</td>\n",
       "    </tr>\n",
       "    <tr>\n",
       "      <th>27906</th>\n",
       "      <td>0</td>\n",
       "      <td>0</td>\n",
       "      <td>0</td>\n",
       "      <td>0</td>\n",
       "      <td>0</td>\n",
       "      <td>0</td>\n",
       "      <td>0</td>\n",
       "      <td>0</td>\n",
       "      <td>0</td>\n",
       "      <td>1</td>\n",
       "      <td>0</td>\n",
       "      <td>1</td>\n",
       "      <td>1</td>\n",
       "    </tr>\n",
       "    <tr>\n",
       "      <th>27907</th>\n",
       "      <td>0</td>\n",
       "      <td>0</td>\n",
       "      <td>0</td>\n",
       "      <td>0</td>\n",
       "      <td>0</td>\n",
       "      <td>0</td>\n",
       "      <td>0</td>\n",
       "      <td>0</td>\n",
       "      <td>1</td>\n",
       "      <td>0</td>\n",
       "      <td>0</td>\n",
       "      <td>1</td>\n",
       "      <td>1</td>\n",
       "    </tr>\n",
       "    <tr>\n",
       "      <th>27908</th>\n",
       "      <td>0</td>\n",
       "      <td>0</td>\n",
       "      <td>0</td>\n",
       "      <td>0</td>\n",
       "      <td>0</td>\n",
       "      <td>0</td>\n",
       "      <td>0</td>\n",
       "      <td>0</td>\n",
       "      <td>1</td>\n",
       "      <td>0</td>\n",
       "      <td>0</td>\n",
       "      <td>1</td>\n",
       "      <td>0</td>\n",
       "    </tr>\n",
       "    <tr>\n",
       "      <th>27909</th>\n",
       "      <td>0</td>\n",
       "      <td>0</td>\n",
       "      <td>0</td>\n",
       "      <td>0</td>\n",
       "      <td>0</td>\n",
       "      <td>0</td>\n",
       "      <td>0</td>\n",
       "      <td>0</td>\n",
       "      <td>1</td>\n",
       "      <td>0</td>\n",
       "      <td>0</td>\n",
       "      <td>1</td>\n",
       "      <td>1</td>\n",
       "    </tr>\n",
       "  </tbody>\n",
       "</table>\n",
       "<p>56008 rows × 13 columns</p>\n",
       "</div>"
      ],
      "text/plain": [
       "       SHIFT_EVENING  SHIFT_MIDNIGHT  OFFENSE_ASSAULT W/DANGEROUS WEAPON  \\\n",
       "0                  0               1                                   0   \n",
       "1                  1               0                                   0   \n",
       "2                  1               0                                   0   \n",
       "3                  0               0                                   0   \n",
       "4                  0               0                                   0   \n",
       "...              ...             ...                                 ...   \n",
       "27905              0               1                                   0   \n",
       "27906              0               0                                   0   \n",
       "27907              0               0                                   0   \n",
       "27908              0               0                                   0   \n",
       "27909              0               0                                   0   \n",
       "\n",
       "       OFFENSE_BURGLARY  OFFENSE_HOMICIDE  OFFENSE_MOTOR VEHICLE THEFT  \\\n",
       "0                     0                 1                            0   \n",
       "1                     0                 0                            0   \n",
       "2                     0                 0                            0   \n",
       "3                     0                 0                            0   \n",
       "4                     0                 0                            0   \n",
       "...                 ...               ...                          ...   \n",
       "27905                 0                 0                            0   \n",
       "27906                 0                 0                            0   \n",
       "27907                 0                 0                            0   \n",
       "27908                 0                 0                            0   \n",
       "27909                 0                 0                            0   \n",
       "\n",
       "       OFFENSE_ROBBERY  OFFENSE_SEX ABUSE  OFFENSE_THEFT F/AUTO  \\\n",
       "0                    0                  0                     0   \n",
       "1                    0                  0                     1   \n",
       "2                    0                  0                     0   \n",
       "3                    0                  0                     0   \n",
       "4                    0                  0                     0   \n",
       "...                ...                ...                   ...   \n",
       "27905                0                  0                     1   \n",
       "27906                0                  0                     0   \n",
       "27907                0                  0                     1   \n",
       "27908                0                  0                     1   \n",
       "27909                0                  0                     1   \n",
       "\n",
       "       OFFENSE_THEFT/OTHER  METHOD_KNIFE  METHOD_OTHERS  REGION_South  \n",
       "0                        0             0              0             0  \n",
       "1                        0             0              1             0  \n",
       "2                        1             0              1             1  \n",
       "3                        1             0              1             0  \n",
       "4                        1             0              1             0  \n",
       "...                    ...           ...            ...           ...  \n",
       "27905                    0             0              1             0  \n",
       "27906                    1             0              1             1  \n",
       "27907                    0             0              1             1  \n",
       "27908                    0             0              1             0  \n",
       "27909                    0             0              1             1  \n",
       "\n",
       "[56008 rows x 13 columns]"
      ]
     },
     "execution_count": 273,
     "metadata": {},
     "output_type": "execute_result"
    }
   ],
   "source": [
    "pd.get_dummies(model_small_df, drop_first=True)"
   ]
  },
  {
   "cell_type": "code",
   "execution_count": 274,
   "id": "f576b9b2",
   "metadata": {},
   "outputs": [],
   "source": [
    "log_reg_df = pd.get_dummies(model_small_df, drop_first=True)"
   ]
  },
  {
   "cell_type": "code",
   "execution_count": 287,
   "id": "70f9f85d",
   "metadata": {},
   "outputs": [
    {
     "data": {
      "text/plain": [
       "Index(['SHIFT_EVENING', 'SHIFT_MIDNIGHT', 'OFFENSE_ASSAULT W/DANGEROUS WEAPON',\n",
       "       'OFFENSE_BURGLARY', 'OFFENSE_HOMICIDE', 'OFFENSE_MOTOR VEHICLE THEFT',\n",
       "       'OFFENSE_ROBBERY', 'OFFENSE_SEX ABUSE', 'OFFENSE_THEFT F/AUTO',\n",
       "       'OFFENSE_THEFT/OTHER', 'METHOD_KNIFE', 'METHOD_OTHERS', 'REGION_South'],\n",
       "      dtype='object')"
      ]
     },
     "execution_count": 287,
     "metadata": {},
     "output_type": "execute_result"
    }
   ],
   "source": [
    "log_reg_df.columns"
   ]
  },
  {
   "cell_type": "code",
   "execution_count": 288,
   "id": "cf7a691b",
   "metadata": {},
   "outputs": [],
   "source": [
    "feature_cols = ['SHIFT_EVENING', 'SHIFT_MIDNIGHT', 'OFFENSE_ASSAULT W/DANGEROUS WEAPON',\n",
    "       'OFFENSE_BURGLARY', 'OFFENSE_HOMICIDE', 'OFFENSE_MOTOR VEHICLE THEFT',\n",
    "       'OFFENSE_ROBBERY', 'OFFENSE_SEX ABUSE', 'OFFENSE_THEFT F/AUTO',\n",
    "       'OFFENSE_THEFT/OTHER', 'METHOD_KNIFE', 'METHOD_OTHERS']\n",
    "X=log_reg_df[feature_cols]\n",
    "y = log_reg_df.REGION_South\n"
   ]
  },
  {
   "cell_type": "code",
   "execution_count": 289,
   "id": "7e3657af",
   "metadata": {},
   "outputs": [],
   "source": [
    "from sklearn.model_selection import train_test_split\n",
    "\n",
    "X_train, X_test, y_train, y_test = train_test_split(X, y, test_size=0.2, random_state=1)"
   ]
  },
  {
   "cell_type": "code",
   "execution_count": null,
   "id": "711a411b",
   "metadata": {},
   "outputs": [],
   "source": []
  },
  {
   "cell_type": "code",
   "execution_count": 290,
   "id": "05946627",
   "metadata": {},
   "outputs": [
    {
     "name": "stdout",
     "output_type": "stream",
     "text": [
      "Training Data Score: 0.6611614515913047\n",
      "Testing Data Score: 0.6584538475272272\n",
      "First 10 Predictions:   [0 0 1 1 0 0 0 0 0 0]\n"
     ]
    }
   ],
   "source": [
    "from sklearn.linear_model import LogisticRegression\n",
    "classifier = LogisticRegression()\n",
    "classifier\n",
    "\n",
    "classifier.fit(X_train, y_train)\n",
    "\n",
    "print(f\"Training Data Score: {classifier.score(X_train, y_train)}\")\n",
    "print(f\"Testing Data Score: {classifier.score(X_test, y_test)}\")\n",
    "\n",
    "predictions = classifier.predict(X_test)\n",
    "print(f\"First 10 Predictions:   {predictions[:10]}\")\n",
    "#print(f\"First 10 Actual labels: {y_test[:10].tolist()}\")\n",
    "#training dataset is continuosly training, test dataset on data it hasn't seen before \n",
    "#training data subset trains the model, test dataset is a subset to test the trained model"
   ]
  },
  {
   "cell_type": "code",
   "execution_count": 291,
   "id": "e26e019d",
   "metadata": {},
   "outputs": [],
   "source": [
    "# import the class\n",
    "from sklearn.linear_model import LogisticRegression\n",
    "\n",
    "# instantiate the model (using the default parameters)\n",
    "logreg = LogisticRegression(random_state=16)\n",
    "\n",
    "# fit the model with data\n",
    "logreg.fit(X_train, y_train)\n",
    "\n",
    "y_pred = logreg.predict(X_test)"
   ]
  },
  {
   "cell_type": "code",
   "execution_count": 292,
   "id": "d9af9df1",
   "metadata": {},
   "outputs": [
    {
     "data": {
      "text/plain": [
       "array([0, 0, 1, ..., 0, 0, 0], dtype=uint8)"
      ]
     },
     "execution_count": 292,
     "metadata": {},
     "output_type": "execute_result"
    }
   ],
   "source": [
    "y_pred"
   ]
  },
  {
   "cell_type": "code",
   "execution_count": 293,
   "id": "392dfad6",
   "metadata": {},
   "outputs": [
    {
     "data": {
      "text/plain": [
       "array([[6805,  419],\n",
       "       [3407,  571]], dtype=int64)"
      ]
     },
     "execution_count": 293,
     "metadata": {},
     "output_type": "execute_result"
    }
   ],
   "source": [
    "# import the metrics class\n",
    "from sklearn import metrics\n",
    "\n",
    "cnf_matrix = metrics.confusion_matrix(y_test, y_pred)\n",
    "cnf_matrix"
   ]
  },
  {
   "cell_type": "code",
   "execution_count": 295,
   "id": "cfffca03",
   "metadata": {},
   "outputs": [
    {
     "data": {
      "text/plain": [
       "Text(0.5, 257.44, 'Predicted label')"
      ]
     },
     "execution_count": 295,
     "metadata": {},
     "output_type": "execute_result"
    },
    {
     "data": {
      "image/png": "[encoded data removed]",
      "text/plain": [
       "<Figure size 432x288 with 2 Axes>"
      ]
     },
     "metadata": {
      "needs_background": "light"
     },
     "output_type": "display_data"
    }
   ],
   "source": [
    "# import required modules\n",
    "import numpy as np\n",
    "import matplotlib.pyplot as plt\n",
    "import seaborn as sns\n",
    "\n",
    "class_names=[0,1] # name  of classes\n",
    "fig, ax = plt.subplots()\n",
    "tick_marks = np.arange(len(class_names))\n",
    "plt.xticks(tick_marks, class_names)\n",
    "plt.yticks(tick_marks, class_names)\n",
    "# create heatmap\n",
    "sns.heatmap(pd.DataFrame(cnf_matrix), annot=True, cmap=\"YlGnBu\" ,fmt='g')\n",
    "ax.xaxis.set_label_position(\"top\")\n",
    "plt.tight_layout()\n",
    "plt.title('Confusion matrix', y=1.1)\n",
    "plt.ylabel('Actual label')\n",
    "plt.xlabel('Predicted label')\n",
    "\n",
    "#(0.5,257.44,'Predicted label');"
   ]
  },
  {
   "cell_type": "code",
   "execution_count": null,
   "id": "9cd321b7",
   "metadata": {},
   "outputs": [],
   "source": [
    "#0=north 1=south, northern crimes better predicted"
   ]
  },
  {
   "cell_type": "markdown",
   "id": "c166f93d",
   "metadata": {},
   "source": [
    "## Random Forest Classifier"
   ]
  },
  {
   "cell_type": "code",
   "execution_count": 197,
   "id": "47e41fec",
   "metadata": {},
   "outputs": [
    {
     "data": {
      "text/plain": [
       "1.0"
      ]
     },
     "execution_count": 197,
     "metadata": {},
     "output_type": "execute_result"
    }
   ],
   "source": [
    "from sklearn.ensemble import RandomForestClassifier\n",
    "rf = RandomForestClassifier(n_estimators=20)\n",
    "rf = rf.fit(X, y)\n",
    "rf.score(X, y)"
   ]
  },
  {
   "cell_type": "code",
   "execution_count": 198,
   "id": "bb909772",
   "metadata": {},
   "outputs": [
    {
     "data": {
      "text/plain": [
       "array([1., 0.])"
      ]
     },
     "execution_count": 198,
     "metadata": {},
     "output_type": "execute_result"
    }
   ],
   "source": [
    "importances = rf.feature_importances_\n",
    "importances"
   ]
  },
  {
   "cell_type": "code",
   "execution_count": 199,
   "id": "7155661e",
   "metadata": {},
   "outputs": [],
   "source": [
    "from sklearn.model_selection import GridSearchCV\n",
    "param_grid = {'C': [1, 5, 10, 50]}\n",
    "grid = GridSearchCV(classifier, param_grid, verbose=3)"
   ]
  },
  {
   "cell_type": "code",
   "execution_count": 200,
   "id": "759c89a3",
   "metadata": {},
   "outputs": [
    {
     "name": "stdout",
     "output_type": "stream",
     "text": [
      "Fitting 5 folds for each of 4 candidates, totalling 20 fits\n"
     ]
    },
    {
     "name": "stderr",
     "output_type": "stream",
     "text": [
      "C:\\Users\\fredr\\anaconda3\\envs\\mlenv\\lib\\site-packages\\sklearn\\model_selection\\_split.py:680: UserWarning: The least populated class in y has only 2 members, which is less than n_splits=5.\n",
      "  UserWarning,\n"
     ]
    },
    {
     "name": "stdout",
     "output_type": "stream",
     "text": [
      "[CV 1/5] END ...............................C=1;, score=0.063 total time=   0.0s\n",
      "[CV 2/5] END ...............................C=1;, score=0.063 total time=   0.0s\n",
      "[CV 3/5] END ...............................C=1;, score=0.064 total time=   0.0s\n",
      "[CV 4/5] END ...............................C=1;, score=0.064 total time=   0.0s\n",
      "[CV 5/5] END ...............................C=1;, score=0.051 total time=   0.0s\n",
      "[CV 1/5] END ...............................C=5;, score=0.063 total time=   0.0s\n",
      "[CV 2/5] END ...............................C=5;, score=0.063 total time=   0.0s\n",
      "[CV 3/5] END ...............................C=5;, score=0.064 total time=   0.0s\n",
      "[CV 4/5] END ...............................C=5;, score=0.064 total time=   0.0s\n",
      "[CV 5/5] END ...............................C=5;, score=0.051 total time=   0.0s\n",
      "[CV 1/5] END ..............................C=10;, score=0.063 total time=   0.0s\n",
      "[CV 2/5] END ..............................C=10;, score=0.063 total time=   0.0s\n",
      "[CV 3/5] END ..............................C=10;, score=0.064 total time=   0.0s\n",
      "[CV 4/5] END ..............................C=10;, score=0.064 total time=   0.0s\n",
      "[CV 5/5] END ..............................C=10;, score=0.051 total time=   0.0s\n",
      "[CV 1/5] END ..............................C=50;, score=0.063 total time=   0.0s\n",
      "[CV 2/5] END ..............................C=50;, score=0.063 total time=   0.0s\n",
      "[CV 3/5] END ..............................C=50;, score=0.064 total time=   0.0s\n",
      "[CV 4/5] END ..............................C=50;, score=0.064 total time=   0.0s\n",
      "[CV 5/5] END ..............................C=50;, score=0.051 total time=   0.0s\n"
     ]
    },
    {
     "data": {
      "text/plain": [
       "GridSearchCV(estimator=LogisticRegression(), param_grid={'C': [1, 5, 10, 50]},\n",
       "             verbose=3)"
      ]
     },
     "execution_count": 200,
     "metadata": {},
     "output_type": "execute_result"
    }
   ],
   "source": [
    "grid.fit(X, y)"
   ]
  },
  {
   "cell_type": "code",
   "execution_count": 201,
   "id": "55a28dce",
   "metadata": {},
   "outputs": [
    {
     "name": "stdout",
     "output_type": "stream",
     "text": [
      "{'C': 1}\n"
     ]
    }
   ],
   "source": [
    "print(grid.best_params_)"
   ]
  },
  {
   "cell_type": "code",
   "execution_count": 202,
   "id": "a6c64acc",
   "metadata": {},
   "outputs": [
    {
     "name": "stdout",
     "output_type": "stream",
     "text": [
      "0.06121389159363842\n"
     ]
    }
   ],
   "source": [
    "print(grid.best_score_)"
   ]
  },
  {
   "cell_type": "code",
   "execution_count": 203,
   "id": "c520fd88",
   "metadata": {},
   "outputs": [],
   "source": [
    "predictions = grid.predict(X)"
   ]
  },
  {
   "cell_type": "code",
   "execution_count": 237,
   "id": "d3d28df5",
   "metadata": {},
   "outputs": [
    {
     "name": "stdout",
     "output_type": "stream",
     "text": [
      "              precision    recall  f1-score   support\n",
      "\n",
      "         306       0.00      0.00      0.00        56\n",
      "         401       0.00      0.00      0.00        32\n",
      "         104       0.00      0.00      0.00        26\n",
      "         607       0.00      0.00      0.00        80\n",
      "         402       0.00      0.00      0.00        32\n",
      "         706       0.00      0.00      0.00        94\n",
      "         701       0.00      0.00      0.00        80\n",
      "         504       0.00      0.00      0.00        48\n",
      "         503       0.00      0.00      0.00         6\n",
      "         404       0.00      0.00      0.00        20\n",
      "         303       0.00      0.00      0.00        28\n",
      "         207       0.00      0.00      0.00        16\n",
      "         604       0.00      0.00      0.00         2\n",
      "         602       0.00      0.00      0.00        32\n",
      "         106       0.00      0.00      0.00        56\n",
      "         603       0.00      0.00      0.00        82\n",
      "         608       0.00      0.00      0.00        22\n",
      "         305       0.00      0.00      0.00        42\n",
      "         506       0.00      0.00      0.00       174\n",
      "         101       0.00      0.00      0.00        60\n",
      "         606       0.00      0.00      0.00        64\n",
      "         206       0.00      0.00      0.00       100\n",
      "         502       0.00      0.00      0.00        60\n",
      "         408       0.00      0.00      0.00        46\n",
      "         102       0.00      0.00      0.00        74\n",
      "         208       0.00      0.00      0.00        46\n",
      "         707       0.00      0.00      0.00        64\n",
      "         501       0.00      0.00      0.00        74\n",
      "         702       0.00      0.00      0.00        82\n",
      "         505       0.00      0.00      0.00        74\n",
      "         507       0.00      0.00      0.00        48\n",
      "         209       0.00      0.00      0.00        58\n",
      "         304       0.00      0.00      0.00        52\n",
      "         403       0.00      0.00      0.00        32\n",
      "         204       0.00      0.00      0.00        76\n",
      "         108       0.00      0.00      0.00        88\n",
      "         409       0.00      0.00      0.00        88\n",
      "         307       0.00      0.00      0.00        84\n",
      "         105       0.00      0.00      0.00        64\n",
      "         705       0.00      0.00      0.00       106\n",
      "         708       0.00      0.00      0.00       128\n",
      "         308       0.00      0.00      0.00        62\n",
      "         302       0.05      1.00      0.09       184\n",
      "         201       0.00      0.00      0.00       154\n",
      "         107       0.00      0.00      0.00       150\n",
      "         405       0.00      0.00      0.00        86\n",
      "         301       0.00      0.00      0.00        60\n",
      "         202       0.00      0.00      0.00       110\n",
      "         704       0.00      0.00      0.00        82\n",
      "         407       0.00      0.00      0.00        68\n",
      "         203       0.00      0.00      0.00        58\n",
      "         605       0.00      0.00      0.00        80\n",
      "         406       0.00      0.00      0.00        48\n",
      "         205       0.00      0.00      0.00        82\n",
      "         703       0.00      0.00      0.00        90\n",
      "         103       0.00      0.00      0.00        90\n",
      "         601       0.00      0.00      0.00        92\n",
      "\n",
      "    accuracy                           0.05      3992\n",
      "   macro avg       0.00      0.02      0.00      3992\n",
      "weighted avg       0.00      0.05      0.00      3992\n",
      "\n"
     ]
    },
    {
     "name": "stderr",
     "output_type": "stream",
     "text": [
      "C:\\Users\\fredr\\anaconda3\\envs\\mlenv\\lib\\site-packages\\sklearn\\metrics\\_classification.py:1318: UndefinedMetricWarning: Precision and F-score are ill-defined and being set to 0.0 in labels with no predicted samples. Use `zero_division` parameter to control this behavior.\n",
      "  _warn_prf(average, modifier, msg_start, len(result))\n",
      "C:\\Users\\fredr\\anaconda3\\envs\\mlenv\\lib\\site-packages\\sklearn\\metrics\\_classification.py:1318: UndefinedMetricWarning: Precision and F-score are ill-defined and being set to 0.0 in labels with no predicted samples. Use `zero_division` parameter to control this behavior.\n",
      "  _warn_prf(average, modifier, msg_start, len(result))\n",
      "C:\\Users\\fredr\\anaconda3\\envs\\mlenv\\lib\\site-packages\\sklearn\\metrics\\_classification.py:1318: UndefinedMetricWarning: Precision and F-score are ill-defined and being set to 0.0 in labels with no predicted samples. Use `zero_division` parameter to control this behavior.\n",
      "  _warn_prf(average, modifier, msg_start, len(result))\n"
     ]
    }
   ],
   "source": [
    "from sklearn.metrics import classification_report\n",
    "print(classification_report(y, predictions,\n",
    "                            target_names=['306','401','104','607','402','706','701','504','503','404','303','207',\n",
    "                                          '604','602','106','603','608','305','506','101','606','206','502','408',\n",
    "                                          '102','208','707','501','702','505','507','209','304','403','204','108',\n",
    "                                          '409','307','105','705','708','308','302','201','107','405','301','202',\n",
    "                                          '704','407','203','605','406','205','703','103','601'                                          \n",
    "]))"
   ]
  },
  {
   "cell_type": "code",
   "execution_count": 212,
   "id": "c25b2a01",
   "metadata": {},
   "outputs": [],
   "source": [
    "dc_robbery_df = dc_robbery_df[['CCN','OFFENSE','PSA']]"
   ]
  },
  {
   "cell_type": "code",
   "execution_count": 213,
   "id": "fab24960",
   "metadata": {},
   "outputs": [
    {
     "data": {
      "text/html": [
       "<div>\n",
       "<style scoped>\n",
       "    .dataframe tbody tr th:only-of-type {\n",
       "        vertical-align: middle;\n",
       "    }\n",
       "\n",
       "    .dataframe tbody tr th {\n",
       "        vertical-align: top;\n",
       "    }\n",
       "\n",
       "    .dataframe thead th {\n",
       "        text-align: right;\n",
       "    }\n",
       "</style>\n",
       "<table border=\"1\" class=\"dataframe\">\n",
       "  <thead>\n",
       "    <tr style=\"text-align: right;\">\n",
       "      <th></th>\n",
       "      <th>CCN</th>\n",
       "      <th>OFFENSE</th>\n",
       "      <th>PSA</th>\n",
       "    </tr>\n",
       "  </thead>\n",
       "  <tbody>\n",
       "    <tr>\n",
       "      <th>5</th>\n",
       "      <td>20000205</td>\n",
       "      <td>ROBBERY</td>\n",
       "      <td>503.0</td>\n",
       "    </tr>\n",
       "    <tr>\n",
       "      <th>10</th>\n",
       "      <td>20000268</td>\n",
       "      <td>ROBBERY</td>\n",
       "      <td>602.0</td>\n",
       "    </tr>\n",
       "    <tr>\n",
       "      <th>20</th>\n",
       "      <td>20014134</td>\n",
       "      <td>ROBBERY</td>\n",
       "      <td>706.0</td>\n",
       "    </tr>\n",
       "    <tr>\n",
       "      <th>30</th>\n",
       "      <td>20014284</td>\n",
       "      <td>ROBBERY</td>\n",
       "      <td>602.0</td>\n",
       "    </tr>\n",
       "    <tr>\n",
       "      <th>32</th>\n",
       "      <td>20014307</td>\n",
       "      <td>ROBBERY</td>\n",
       "      <td>405.0</td>\n",
       "    </tr>\n",
       "  </tbody>\n",
       "</table>\n",
       "</div>"
      ],
      "text/plain": [
       "         CCN  OFFENSE    PSA\n",
       "5   20000205  ROBBERY  503.0\n",
       "10  20000268  ROBBERY  602.0\n",
       "20  20014134  ROBBERY  706.0\n",
       "30  20014284  ROBBERY  602.0\n",
       "32  20014307  ROBBERY  405.0"
      ]
     },
     "execution_count": 213,
     "metadata": {},
     "output_type": "execute_result"
    }
   ],
   "source": [
    "dc_robbery_df = dc_robbery_df.fillna(0)\n",
    "dc_robbery_df.reset_index()\n",
    "dc_robbery_df.head()"
   ]
  },
  {
   "cell_type": "code",
   "execution_count": 214,
   "id": "ae518840",
   "metadata": {},
   "outputs": [],
   "source": [
    "dc_robbery_df['CCN'] = dc_robbery_df['CCN'].apply(pd.to_numeric, errors='coerce')\n",
    "\n",
    "dc_robbery_df=pd.get_dummies(dc_robbery_df, columns=['OFFENSE'])\n",
    "\n",
    "dc_robbery_df['PSA'] = dc_robbery_df['PSA'].apply(pd.to_numeric, errors='coerce')"
   ]
  },
  {
   "cell_type": "code",
   "execution_count": 215,
   "id": "eabeb984",
   "metadata": {},
   "outputs": [
    {
     "data": {
      "text/html": [
       "<div>\n",
       "<style scoped>\n",
       "    .dataframe tbody tr th:only-of-type {\n",
       "        vertical-align: middle;\n",
       "    }\n",
       "\n",
       "    .dataframe tbody tr th {\n",
       "        vertical-align: top;\n",
       "    }\n",
       "\n",
       "    .dataframe thead th {\n",
       "        text-align: right;\n",
       "    }\n",
       "</style>\n",
       "<table border=\"1\" class=\"dataframe\">\n",
       "  <thead>\n",
       "    <tr style=\"text-align: right;\">\n",
       "      <th></th>\n",
       "      <th>CCN</th>\n",
       "      <th>PSA</th>\n",
       "      <th>OFFENSE_ROBBERY</th>\n",
       "    </tr>\n",
       "  </thead>\n",
       "  <tbody>\n",
       "    <tr>\n",
       "      <th>5</th>\n",
       "      <td>20000205</td>\n",
       "      <td>503.0</td>\n",
       "      <td>1</td>\n",
       "    </tr>\n",
       "    <tr>\n",
       "      <th>10</th>\n",
       "      <td>20000268</td>\n",
       "      <td>602.0</td>\n",
       "      <td>1</td>\n",
       "    </tr>\n",
       "    <tr>\n",
       "      <th>20</th>\n",
       "      <td>20014134</td>\n",
       "      <td>706.0</td>\n",
       "      <td>1</td>\n",
       "    </tr>\n",
       "    <tr>\n",
       "      <th>30</th>\n",
       "      <td>20014284</td>\n",
       "      <td>602.0</td>\n",
       "      <td>1</td>\n",
       "    </tr>\n",
       "    <tr>\n",
       "      <th>32</th>\n",
       "      <td>20014307</td>\n",
       "      <td>405.0</td>\n",
       "      <td>1</td>\n",
       "    </tr>\n",
       "  </tbody>\n",
       "</table>\n",
       "</div>"
      ],
      "text/plain": [
       "         CCN    PSA  OFFENSE_ROBBERY\n",
       "5   20000205  503.0                1\n",
       "10  20000268  602.0                1\n",
       "20  20014134  706.0                1\n",
       "30  20014284  602.0                1\n",
       "32  20014307  405.0                1"
      ]
     },
     "execution_count": 215,
     "metadata": {},
     "output_type": "execute_result"
    }
   ],
   "source": [
    "dc_robbery_df= dc_robbery_df.fillna(0)\n",
    "dc_robbery_df.reset_index()\n",
    "dc_robbery_df.head(5)"
   ]
  },
  {
   "cell_type": "code",
   "execution_count": 216,
   "id": "112918ec",
   "metadata": {},
   "outputs": [
    {
     "name": "stdout",
     "output_type": "stream",
     "text": [
      "(3992, 2) (3992,)\n"
     ]
    }
   ],
   "source": [
    "X = dc_robbery_df.drop(\"PSA\", axis=1)\n",
    "y = dc_robbery_df[\"PSA\"]\n",
    "print(X.shape, y.shape)"
   ]
  },
  {
   "cell_type": "code",
   "execution_count": 217,
   "id": "932e7f4d",
   "metadata": {},
   "outputs": [],
   "source": [
    "from sklearn.model_selection import train_test_split\n",
    "\n",
    "X_train, X_test, y_train, y_test = train_test_split(X, y, random_state=1)"
   ]
  },
  {
   "cell_type": "code",
   "execution_count": 218,
   "id": "72613754",
   "metadata": {},
   "outputs": [
    {
     "name": "stdout",
     "output_type": "stream",
     "text": [
      "Training Data Score: 0.04542418169672679\n",
      "Testing Data Score: 0.04809619238476954\n",
      "First 10 Predictions:   [602. 602. 602. 602. 602. 602. 602. 602. 602. 602.]\n",
      "First 10 Actual labels: [305.0, 504.0, 302.0, 604.0, 104.0, 501.0, 403.0, 407.0, 305.0, 602.0]\n"
     ]
    }
   ],
   "source": [
    "from sklearn.linear_model import LogisticRegression\n",
    "classifier = LogisticRegression()\n",
    "classifier\n",
    "\n",
    "classifier.fit(X_train, y_train)\n",
    "\n",
    "print(f\"Training Data Score: {classifier.score(X_train, y_train)}\")\n",
    "print(f\"Testing Data Score: {classifier.score(X_test, y_test)}\")\n",
    "\n",
    "predictions = classifier.predict(X_test)\n",
    "print(f\"First 10 Predictions:   {predictions[:10]}\")\n",
    "print(f\"First 10 Actual labels: {y_test[:10].tolist()}\")"
   ]
  },
  {
   "cell_type": "code",
   "execution_count": 219,
   "id": "9669dc07",
   "metadata": {},
   "outputs": [
    {
     "data": {
      "text/plain": [
       "0.9869739478957916"
      ]
     },
     "execution_count": 219,
     "metadata": {},
     "output_type": "execute_result"
    }
   ],
   "source": [
    "from sklearn.ensemble import RandomForestClassifier\n",
    "rf = RandomForestClassifier(n_estimators=20)\n",
    "rf = rf.fit(X, y)\n",
    "rf.score(X, y)"
   ]
  },
  {
   "cell_type": "code",
   "execution_count": 220,
   "id": "5dc3a068",
   "metadata": {},
   "outputs": [
    {
     "data": {
      "text/plain": [
       "array([1., 0.])"
      ]
     },
     "execution_count": 220,
     "metadata": {},
     "output_type": "execute_result"
    }
   ],
   "source": [
    "importances = rf.feature_importances_\n",
    "importances"
   ]
  },
  {
   "cell_type": "code",
   "execution_count": 225,
   "id": "cb60331c",
   "metadata": {},
   "outputs": [],
   "source": [
    "from sklearn.model_selection import GridSearchCV\n",
    "param_grid = {'C': [1, 5, 10, 100]}\n",
    "grid = GridSearchCV(classifier, param_grid, verbose=3)"
   ]
  },
  {
   "cell_type": "code",
   "execution_count": 226,
   "id": "8d9c027c",
   "metadata": {},
   "outputs": [
    {
     "name": "stdout",
     "output_type": "stream",
     "text": [
      "Fitting 5 folds for each of 4 candidates, totalling 20 fits\n"
     ]
    },
    {
     "name": "stderr",
     "output_type": "stream",
     "text": [
      "C:\\Users\\fredr\\anaconda3\\envs\\mlenv\\lib\\site-packages\\sklearn\\model_selection\\_split.py:680: UserWarning: The least populated class in y has only 2 members, which is less than n_splits=5.\n",
      "  UserWarning,\n"
     ]
    },
    {
     "name": "stdout",
     "output_type": "stream",
     "text": [
      "[CV 1/5] END ...............................C=1;, score=0.046 total time=   0.2s\n",
      "[CV 2/5] END ...............................C=1;, score=0.046 total time=   0.2s\n",
      "[CV 3/5] END ...............................C=1;, score=0.045 total time=   0.2s\n",
      "[CV 4/5] END ...............................C=1;, score=0.046 total time=   0.3s\n",
      "[CV 5/5] END ...............................C=1;, score=0.046 total time=   0.3s\n",
      "[CV 1/5] END ...............................C=5;, score=0.046 total time=   0.3s\n",
      "[CV 2/5] END ...............................C=5;, score=0.046 total time=   0.3s\n",
      "[CV 3/5] END ...............................C=5;, score=0.045 total time=   0.2s\n",
      "[CV 4/5] END ...............................C=5;, score=0.046 total time=   0.2s\n",
      "[CV 5/5] END ...............................C=5;, score=0.046 total time=   0.2s\n",
      "[CV 1/5] END ..............................C=10;, score=0.046 total time=   0.2s\n",
      "[CV 2/5] END ..............................C=10;, score=0.046 total time=   0.3s\n",
      "[CV 3/5] END ..............................C=10;, score=0.045 total time=   0.2s\n",
      "[CV 4/5] END ..............................C=10;, score=0.046 total time=   0.2s\n",
      "[CV 5/5] END ..............................C=10;, score=0.046 total time=   0.2s\n",
      "[CV 1/5] END .............................C=100;, score=0.046 total time=   0.2s\n",
      "[CV 2/5] END .............................C=100;, score=0.046 total time=   0.2s\n",
      "[CV 3/5] END .............................C=100;, score=0.045 total time=   0.2s\n",
      "[CV 4/5] END .............................C=100;, score=0.046 total time=   0.2s\n",
      "[CV 5/5] END .............................C=100;, score=0.046 total time=   0.2s\n"
     ]
    },
    {
     "data": {
      "text/plain": [
       "GridSearchCV(estimator=LogisticRegression(), param_grid={'C': [1, 5, 10, 100]},\n",
       "             verbose=3)"
      ]
     },
     "execution_count": 226,
     "metadata": {},
     "output_type": "execute_result"
    }
   ],
   "source": [
    "grid.fit(X, y)"
   ]
  },
  {
   "cell_type": "code",
   "execution_count": 227,
   "id": "dff44bbb",
   "metadata": {},
   "outputs": [
    {
     "name": "stdout",
     "output_type": "stream",
     "text": [
      "{'C': 1}\n"
     ]
    }
   ],
   "source": [
    "print(grid.best_params_)"
   ]
  },
  {
   "cell_type": "code",
   "execution_count": 228,
   "id": "5ffae889",
   "metadata": {},
   "outputs": [
    {
     "name": "stdout",
     "output_type": "stream",
     "text": [
      "0.04609207624819245\n"
     ]
    }
   ],
   "source": [
    "print(grid.best_score_)"
   ]
  },
  {
   "cell_type": "code",
   "execution_count": 229,
   "id": "c124f348",
   "metadata": {},
   "outputs": [],
   "source": [
    "predictions = grid.predict(X)"
   ]
  },
  {
   "cell_type": "code",
   "execution_count": 238,
   "id": "28955837",
   "metadata": {},
   "outputs": [
    {
     "name": "stdout",
     "output_type": "stream",
     "text": [
      "              precision    recall  f1-score   support\n",
      "\n",
      "         306       0.00      0.00      0.00        56\n",
      "         401       0.00      0.00      0.00        32\n",
      "         104       0.00      0.00      0.00        26\n",
      "         607       0.00      0.00      0.00        80\n",
      "         402       0.00      0.00      0.00        32\n",
      "         706       0.00      0.00      0.00        94\n",
      "         701       0.00      0.00      0.00        80\n",
      "         504       0.00      0.00      0.00        48\n",
      "         503       0.00      0.00      0.00         6\n",
      "         404       0.00      0.00      0.00        20\n",
      "         303       0.00      0.00      0.00        28\n",
      "         207       0.00      0.00      0.00        16\n",
      "         604       0.00      0.00      0.00         2\n",
      "         602       0.00      0.00      0.00        32\n",
      "         106       0.00      0.00      0.00        56\n",
      "         603       0.00      0.00      0.00        82\n",
      "         608       0.00      0.00      0.00        22\n",
      "         305       0.00      0.00      0.00        42\n",
      "         506       0.00      0.00      0.00       174\n",
      "         101       0.00      0.00      0.00        60\n",
      "         606       0.00      0.00      0.00        64\n",
      "         206       0.00      0.00      0.00       100\n",
      "         502       0.00      0.00      0.00        60\n",
      "         408       0.00      0.00      0.00        46\n",
      "         102       0.00      0.00      0.00        74\n",
      "         208       0.00      0.00      0.00        46\n",
      "         707       0.00      0.00      0.00        64\n",
      "         501       0.00      0.00      0.00        74\n",
      "         702       0.00      0.00      0.00        82\n",
      "         505       0.00      0.00      0.00        74\n",
      "         507       0.00      0.00      0.00        48\n",
      "         209       0.00      0.00      0.00        58\n",
      "         304       0.00      0.00      0.00        52\n",
      "         403       0.00      0.00      0.00        32\n",
      "         204       0.00      0.00      0.00        76\n",
      "         108       0.00      0.00      0.00        88\n",
      "         409       0.00      0.00      0.00        88\n",
      "         307       0.00      0.00      0.00        84\n",
      "         105       0.00      0.00      0.00        64\n",
      "         705       0.00      0.00      0.00       106\n",
      "         708       0.00      0.00      0.00       128\n",
      "         308       0.00      0.00      0.00        62\n",
      "         302       0.05      1.00      0.09       184\n",
      "         201       0.00      0.00      0.00       154\n",
      "         107       0.00      0.00      0.00       150\n",
      "         405       0.00      0.00      0.00        86\n",
      "         301       0.00      0.00      0.00        60\n",
      "         202       0.00      0.00      0.00       110\n",
      "         704       0.00      0.00      0.00        82\n",
      "         407       0.00      0.00      0.00        68\n",
      "         203       0.00      0.00      0.00        58\n",
      "         605       0.00      0.00      0.00        80\n",
      "         406       0.00      0.00      0.00        48\n",
      "         205       0.00      0.00      0.00        82\n",
      "         703       0.00      0.00      0.00        90\n",
      "         103       0.00      0.00      0.00        90\n",
      "         601       0.00      0.00      0.00        92\n",
      "\n",
      "    accuracy                           0.05      3992\n",
      "   macro avg       0.00      0.02      0.00      3992\n",
      "weighted avg       0.00      0.05      0.00      3992\n",
      "\n"
     ]
    },
    {
     "name": "stderr",
     "output_type": "stream",
     "text": [
      "C:\\Users\\fredr\\anaconda3\\envs\\mlenv\\lib\\site-packages\\sklearn\\metrics\\_classification.py:1318: UndefinedMetricWarning: Precision and F-score are ill-defined and being set to 0.0 in labels with no predicted samples. Use `zero_division` parameter to control this behavior.\n",
      "  _warn_prf(average, modifier, msg_start, len(result))\n",
      "C:\\Users\\fredr\\anaconda3\\envs\\mlenv\\lib\\site-packages\\sklearn\\metrics\\_classification.py:1318: UndefinedMetricWarning: Precision and F-score are ill-defined and being set to 0.0 in labels with no predicted samples. Use `zero_division` parameter to control this behavior.\n",
      "  _warn_prf(average, modifier, msg_start, len(result))\n",
      "C:\\Users\\fredr\\anaconda3\\envs\\mlenv\\lib\\site-packages\\sklearn\\metrics\\_classification.py:1318: UndefinedMetricWarning: Precision and F-score are ill-defined and being set to 0.0 in labels with no predicted samples. Use `zero_division` parameter to control this behavior.\n",
      "  _warn_prf(average, modifier, msg_start, len(result))\n"
     ]
    }
   ],
   "source": [
    "#PSA with highest prediction of no robberies\n",
    "from sklearn.metrics import classification_report\n",
    "print(classification_report(y, predictions,\n",
    "                            target_names=['306','401','104','607','402','706','701','504','503','404','303','207',\n",
    "                                          '604','602','106','603','608','305','506','101','606','206','502','408',\n",
    "                                          '102','208','707','501','702','505','507','209','304','403','204','108',\n",
    "                                          '409','307','105','705','708','308','302','201','107','405','301','202',\n",
    "                                          '704','407','203','605','406','205','703','103','601'\n",
    "]))"
   ]
  },
  {
   "cell_type": "markdown",
   "id": "4784d45a",
   "metadata": {},
   "source": [
    "## KNN Classifier"
   ]
  },
  {
   "cell_type": "code",
   "execution_count": 232,
   "id": "eaf63afd",
   "metadata": {},
   "outputs": [
    {
     "data": {
      "text/plain": [
       "KNeighborsClassifier(n_neighbors=1000)"
      ]
     },
     "execution_count": 232,
     "metadata": {},
     "output_type": "execute_result"
    }
   ],
   "source": [
    "from sklearn.neighbors import KNeighborsClassifier\n",
    "knn = KNeighborsClassifier(n_neighbors=1000)\n",
    "knn.fit(X_train,y_train)"
   ]
  },
  {
   "cell_type": "code",
   "execution_count": 233,
   "id": "2db895ed",
   "metadata": {},
   "outputs": [
    {
     "data": {
      "text/plain": [
       "0.04909819639278557"
      ]
     },
     "execution_count": 233,
     "metadata": {},
     "output_type": "execute_result"
    }
   ],
   "source": [
    "knn.score(X_test,y_test)"
   ]
  },
  {
   "cell_type": "code",
   "execution_count": 234,
   "id": "55531288",
   "metadata": {},
   "outputs": [
    {
     "data": {
      "text/plain": [
       "0.05511022044088176"
      ]
     },
     "execution_count": 234,
     "metadata": {},
     "output_type": "execute_result"
    }
   ],
   "source": [
    "knn.score(X_train,y_train)"
   ]
  },
  {
   "cell_type": "code",
   "execution_count": 235,
   "id": "2de82f1e",
   "metadata": {},
   "outputs": [
    {
     "name": "stdout",
     "output_type": "stream",
     "text": [
      "k: 1, Train/Test Score: 1.000/0.768\n",
      "k: 3, Train/Test Score: 0.793/0.144\n",
      "k: 5, Train/Test Score: 0.451/0.075\n",
      "k: 7, Train/Test Score: 0.338/0.067\n",
      "k: 9, Train/Test Score: 0.278/0.069\n",
      "k: 11, Train/Test Score: 0.242/0.075\n",
      "k: 13, Train/Test Score: 0.211/0.079\n",
      "k: 15, Train/Test Score: 0.200/0.079\n",
      "k: 17, Train/Test Score: 0.180/0.072\n",
      "k: 19, Train/Test Score: 0.173/0.076\n"
     ]
    },
    {
     "data": {
      "image/png": "[encoded data removed]",
      "text/plain": [
       "<Figure size 432x288 with 1 Axes>"
      ]
     },
     "metadata": {
      "needs_background": "light"
     },
     "output_type": "display_data"
    }
   ],
   "source": [
    "train_scores = []\n",
    "test_scores = []\n",
    "for k in range(1, 20, 2):\n",
    "    knn = KNeighborsClassifier(n_neighbors=k)\n",
    "    knn.fit(X_train, y_train)\n",
    "    train_score = knn.score(X_train, y_train)\n",
    "    test_score = knn.score(X_test, y_test)\n",
    "    train_scores.append(train_score)\n",
    "    test_scores.append(test_score)\n",
    "    print(f\"k: {k}, Train/Test Score: {train_score:.3f}/{test_score:.3f}\")\n",
    "    \n",
    "    \n",
    "plt.plot(range(1, 20, 2), train_scores, marker='o')\n",
    "plt.plot(range(1, 20, 2), test_scores, marker=\"x\")\n",
    "plt.xlabel(\"k neighbors\")\n",
    "plt.ylabel(\"Testing accuracy Score\")\n",
    "plt.show()"
   ]
  },
  {
   "cell_type": "code",
   "execution_count": null,
   "id": "9b6060f7",
   "metadata": {},
   "outputs": [],
   "source": []
  },
  {
   "cell_type": "code",
   "execution_count": null,
   "id": "b8f71e33",
   "metadata": {},
   "outputs": [],
   "source": []
  },
  {
   "cell_type": "code",
   "execution_count": null,
   "id": "9cfbdbbb",
   "metadata": {},
   "outputs": [],
   "source": []
  },
  {
   "cell_type": "code",
   "execution_count": 45,
   "id": "3d3ef272",
   "metadata": {},
   "outputs": [
    {
     "data": {
      "text/plain": [
       "CCN                  int64\n",
       "SHIFT               object\n",
       "OFFENSE             object\n",
       "METHOD              object\n",
       "VOTING_PRECINCT     object\n",
       "XBLOCK             float64\n",
       "YBLOCK             float64\n",
       "crimetype           object\n",
       "dtype: object"
      ]
     },
     "execution_count": 45,
     "metadata": {},
     "output_type": "execute_result"
    }
   ],
   "source": [
    "result = dc_crime_df.dtypes\n",
    "result"
   ]
  },
  {
   "cell_type": "code",
   "execution_count": 46,
   "id": "a6b29550",
   "metadata": {},
   "outputs": [
    {
     "data": {
      "text/html": [
       "<div>\n",
       "<style scoped>\n",
       "    .dataframe tbody tr th:only-of-type {\n",
       "        vertical-align: middle;\n",
       "    }\n",
       "\n",
       "    .dataframe tbody tr th {\n",
       "        vertical-align: top;\n",
       "    }\n",
       "\n",
       "    .dataframe thead th {\n",
       "        text-align: right;\n",
       "    }\n",
       "</style>\n",
       "<table border=\"1\" class=\"dataframe\">\n",
       "  <thead>\n",
       "    <tr style=\"text-align: right;\">\n",
       "      <th></th>\n",
       "      <th>CCN</th>\n",
       "      <th>XBLOCK</th>\n",
       "      <th>YBLOCK</th>\n",
       "      <th>SHIFT_DAY</th>\n",
       "      <th>SHIFT_EVENING</th>\n",
       "      <th>SHIFT_MIDNIGHT</th>\n",
       "      <th>OFFENSE_ARSON</th>\n",
       "      <th>OFFENSE_ASSAULT W/DANGEROUS WEAPON</th>\n",
       "      <th>OFFENSE_BURGLARY</th>\n",
       "      <th>OFFENSE_HOMICIDE</th>\n",
       "      <th>...</th>\n",
       "      <th>VOTING_PRECINCT_Precinct 90</th>\n",
       "      <th>VOTING_PRECINCT_Precinct 91</th>\n",
       "      <th>VOTING_PRECINCT_Precinct 92</th>\n",
       "      <th>VOTING_PRECINCT_Precinct 93</th>\n",
       "      <th>VOTING_PRECINCT_Precinct 94</th>\n",
       "      <th>VOTING_PRECINCT_Precinct 95</th>\n",
       "      <th>VOTING_PRECINCT_Precinct 96</th>\n",
       "      <th>VOTING_PRECINCT_Precinct 97</th>\n",
       "      <th>VOTING_PRECINCT_Precinct 98</th>\n",
       "      <th>VOTING_PRECINCT_Precinct 99</th>\n",
       "    </tr>\n",
       "  </thead>\n",
       "  <tbody>\n",
       "    <tr>\n",
       "      <th>0</th>\n",
       "      <td>20139232</td>\n",
       "      <td>398576.16</td>\n",
       "      <td>141939.53</td>\n",
       "      <td>0</td>\n",
       "      <td>0</td>\n",
       "      <td>1</td>\n",
       "      <td>0</td>\n",
       "      <td>0</td>\n",
       "      <td>0</td>\n",
       "      <td>1</td>\n",
       "      <td>...</td>\n",
       "      <td>0</td>\n",
       "      <td>0</td>\n",
       "      <td>0</td>\n",
       "      <td>0</td>\n",
       "      <td>0</td>\n",
       "      <td>0</td>\n",
       "      <td>0</td>\n",
       "      <td>0</td>\n",
       "      <td>0</td>\n",
       "      <td>0</td>\n",
       "    </tr>\n",
       "    <tr>\n",
       "      <th>1</th>\n",
       "      <td>11048862</td>\n",
       "      <td>394049.03</td>\n",
       "      <td>140468.17</td>\n",
       "      <td>0</td>\n",
       "      <td>1</td>\n",
       "      <td>0</td>\n",
       "      <td>0</td>\n",
       "      <td>0</td>\n",
       "      <td>0</td>\n",
       "      <td>0</td>\n",
       "      <td>...</td>\n",
       "      <td>0</td>\n",
       "      <td>0</td>\n",
       "      <td>0</td>\n",
       "      <td>0</td>\n",
       "      <td>0</td>\n",
       "      <td>0</td>\n",
       "      <td>0</td>\n",
       "      <td>0</td>\n",
       "      <td>0</td>\n",
       "      <td>0</td>\n",
       "    </tr>\n",
       "    <tr>\n",
       "      <th>2</th>\n",
       "      <td>10008883</td>\n",
       "      <td>406401.56</td>\n",
       "      <td>135172.74</td>\n",
       "      <td>0</td>\n",
       "      <td>1</td>\n",
       "      <td>0</td>\n",
       "      <td>0</td>\n",
       "      <td>0</td>\n",
       "      <td>0</td>\n",
       "      <td>0</td>\n",
       "      <td>...</td>\n",
       "      <td>0</td>\n",
       "      <td>0</td>\n",
       "      <td>0</td>\n",
       "      <td>0</td>\n",
       "      <td>0</td>\n",
       "      <td>0</td>\n",
       "      <td>0</td>\n",
       "      <td>0</td>\n",
       "      <td>0</td>\n",
       "      <td>0</td>\n",
       "    </tr>\n",
       "    <tr>\n",
       "      <th>3</th>\n",
       "      <td>11124202</td>\n",
       "      <td>400924.55</td>\n",
       "      <td>137563.02</td>\n",
       "      <td>1</td>\n",
       "      <td>0</td>\n",
       "      <td>0</td>\n",
       "      <td>0</td>\n",
       "      <td>0</td>\n",
       "      <td>0</td>\n",
       "      <td>0</td>\n",
       "      <td>...</td>\n",
       "      <td>0</td>\n",
       "      <td>0</td>\n",
       "      <td>0</td>\n",
       "      <td>0</td>\n",
       "      <td>0</td>\n",
       "      <td>0</td>\n",
       "      <td>0</td>\n",
       "      <td>0</td>\n",
       "      <td>0</td>\n",
       "      <td>0</td>\n",
       "    </tr>\n",
       "    <tr>\n",
       "      <th>4</th>\n",
       "      <td>12113231</td>\n",
       "      <td>401249.74</td>\n",
       "      <td>138295.18</td>\n",
       "      <td>1</td>\n",
       "      <td>0</td>\n",
       "      <td>0</td>\n",
       "      <td>0</td>\n",
       "      <td>0</td>\n",
       "      <td>0</td>\n",
       "      <td>0</td>\n",
       "      <td>...</td>\n",
       "      <td>0</td>\n",
       "      <td>0</td>\n",
       "      <td>0</td>\n",
       "      <td>0</td>\n",
       "      <td>0</td>\n",
       "      <td>0</td>\n",
       "      <td>0</td>\n",
       "      <td>0</td>\n",
       "      <td>0</td>\n",
       "      <td>0</td>\n",
       "    </tr>\n",
       "  </tbody>\n",
       "</table>\n",
       "<p>5 rows × 162 columns</p>\n",
       "</div>"
      ],
      "text/plain": [
       "        CCN     XBLOCK     YBLOCK  SHIFT_DAY  SHIFT_EVENING  SHIFT_MIDNIGHT  \\\n",
       "0  20139232  398576.16  141939.53          0              0               1   \n",
       "1  11048862  394049.03  140468.17          0              1               0   \n",
       "2  10008883  406401.56  135172.74          0              1               0   \n",
       "3  11124202  400924.55  137563.02          1              0               0   \n",
       "4  12113231  401249.74  138295.18          1              0               0   \n",
       "\n",
       "   OFFENSE_ARSON  OFFENSE_ASSAULT W/DANGEROUS WEAPON  OFFENSE_BURGLARY  \\\n",
       "0              0                                   0                 0   \n",
       "1              0                                   0                 0   \n",
       "2              0                                   0                 0   \n",
       "3              0                                   0                 0   \n",
       "4              0                                   0                 0   \n",
       "\n",
       "   OFFENSE_HOMICIDE  ...  VOTING_PRECINCT_Precinct 90  \\\n",
       "0                 1  ...                            0   \n",
       "1                 0  ...                            0   \n",
       "2                 0  ...                            0   \n",
       "3                 0  ...                            0   \n",
       "4                 0  ...                            0   \n",
       "\n",
       "   VOTING_PRECINCT_Precinct 91  VOTING_PRECINCT_Precinct 92  \\\n",
       "0                            0                            0   \n",
       "1                            0                            0   \n",
       "2                            0                            0   \n",
       "3                            0                            0   \n",
       "4                            0                            0   \n",
       "\n",
       "   VOTING_PRECINCT_Precinct 93  VOTING_PRECINCT_Precinct 94  \\\n",
       "0                            0                            0   \n",
       "1                            0                            0   \n",
       "2                            0                            0   \n",
       "3                            0                            0   \n",
       "4                            0                            0   \n",
       "\n",
       "   VOTING_PRECINCT_Precinct 95  VOTING_PRECINCT_Precinct 96  \\\n",
       "0                            0                            0   \n",
       "1                            0                            0   \n",
       "2                            0                            0   \n",
       "3                            0                            0   \n",
       "4                            0                            0   \n",
       "\n",
       "   VOTING_PRECINCT_Precinct 97  VOTING_PRECINCT_Precinct 98  \\\n",
       "0                            0                            0   \n",
       "1                            0                            0   \n",
       "2                            0                            0   \n",
       "3                            0                            0   \n",
       "4                            0                            0   \n",
       "\n",
       "   VOTING_PRECINCT_Precinct 99  \n",
       "0                            0  \n",
       "1                            0  \n",
       "2                            0  \n",
       "3                            0  \n",
       "4                            0  \n",
       "\n",
       "[5 rows x 162 columns]"
      ]
     },
     "execution_count": 46,
     "metadata": {},
     "output_type": "execute_result"
    }
   ],
   "source": [
    "# create features\n",
    "X = pd.get_dummies(dc_crime_df, columns=['SHIFT', 'OFFENSE', 'METHOD', 'VOTING_PRECINCT']).drop('crimetype', axis=1)\n",
    "\n",
    "# create target\n",
    "y = dc_crime_df['crimetype']\n",
    "X.head()"
   ]
  },
  {
   "cell_type": "code",
   "execution_count": 47,
   "id": "e65532c7",
   "metadata": {},
   "outputs": [
    {
     "data": {
      "text/html": [
       "<div>\n",
       "<style scoped>\n",
       "    .dataframe tbody tr th:only-of-type {\n",
       "        vertical-align: middle;\n",
       "    }\n",
       "\n",
       "    .dataframe tbody tr th {\n",
       "        vertical-align: top;\n",
       "    }\n",
       "\n",
       "    .dataframe thead th {\n",
       "        text-align: right;\n",
       "    }\n",
       "</style>\n",
       "<table border=\"1\" class=\"dataframe\">\n",
       "  <thead>\n",
       "    <tr style=\"text-align: right;\">\n",
       "      <th></th>\n",
       "      <th>CCN</th>\n",
       "      <th>XBLOCK</th>\n",
       "      <th>YBLOCK</th>\n",
       "      <th>SHIFT_DAY</th>\n",
       "      <th>SHIFT_EVENING</th>\n",
       "      <th>SHIFT_MIDNIGHT</th>\n",
       "      <th>OFFENSE_ARSON</th>\n",
       "      <th>OFFENSE_ASSAULT W/DANGEROUS WEAPON</th>\n",
       "      <th>OFFENSE_BURGLARY</th>\n",
       "      <th>OFFENSE_HOMICIDE</th>\n",
       "      <th>...</th>\n",
       "      <th>VOTING_PRECINCT_Precinct 90</th>\n",
       "      <th>VOTING_PRECINCT_Precinct 91</th>\n",
       "      <th>VOTING_PRECINCT_Precinct 92</th>\n",
       "      <th>VOTING_PRECINCT_Precinct 93</th>\n",
       "      <th>VOTING_PRECINCT_Precinct 94</th>\n",
       "      <th>VOTING_PRECINCT_Precinct 95</th>\n",
       "      <th>VOTING_PRECINCT_Precinct 96</th>\n",
       "      <th>VOTING_PRECINCT_Precinct 97</th>\n",
       "      <th>VOTING_PRECINCT_Precinct 98</th>\n",
       "      <th>VOTING_PRECINCT_Precinct 99</th>\n",
       "    </tr>\n",
       "  </thead>\n",
       "  <tbody>\n",
       "    <tr>\n",
       "      <th>count</th>\n",
       "      <td>2.831900e+04</td>\n",
       "      <td>28319.000000</td>\n",
       "      <td>28319.000000</td>\n",
       "      <td>28319.000000</td>\n",
       "      <td>28319.000000</td>\n",
       "      <td>28319.000000</td>\n",
       "      <td>28319.000000</td>\n",
       "      <td>28319.000000</td>\n",
       "      <td>28319.000000</td>\n",
       "      <td>28319.000000</td>\n",
       "      <td>...</td>\n",
       "      <td>28319.000000</td>\n",
       "      <td>28319.0000</td>\n",
       "      <td>28319.000000</td>\n",
       "      <td>28319.000000</td>\n",
       "      <td>28319.000000</td>\n",
       "      <td>28319.000000</td>\n",
       "      <td>28319.000000</td>\n",
       "      <td>28319.000000</td>\n",
       "      <td>28319.000000</td>\n",
       "      <td>28319.000000</td>\n",
       "    </tr>\n",
       "    <tr>\n",
       "      <th>mean</th>\n",
       "      <td>2.110956e+07</td>\n",
       "      <td>399263.408155</td>\n",
       "      <td>137774.252200</td>\n",
       "      <td>0.389844</td>\n",
       "      <td>0.428687</td>\n",
       "      <td>0.181468</td>\n",
       "      <td>0.000141</td>\n",
       "      <td>0.058865</td>\n",
       "      <td>0.041421</td>\n",
       "      <td>0.007910</td>\n",
       "      <td>...</td>\n",
       "      <td>0.007769</td>\n",
       "      <td>0.0113</td>\n",
       "      <td>0.002507</td>\n",
       "      <td>0.005332</td>\n",
       "      <td>0.004696</td>\n",
       "      <td>0.005862</td>\n",
       "      <td>0.003814</td>\n",
       "      <td>0.004132</td>\n",
       "      <td>0.005191</td>\n",
       "      <td>0.006038</td>\n",
       "    </tr>\n",
       "    <tr>\n",
       "      <th>std</th>\n",
       "      <td>4.872598e+05</td>\n",
       "      <td>3013.914258</td>\n",
       "      <td>3296.580087</td>\n",
       "      <td>0.487723</td>\n",
       "      <td>0.494897</td>\n",
       "      <td>0.385412</td>\n",
       "      <td>0.011884</td>\n",
       "      <td>0.235376</td>\n",
       "      <td>0.199265</td>\n",
       "      <td>0.088587</td>\n",
       "      <td>...</td>\n",
       "      <td>0.087798</td>\n",
       "      <td>0.1057</td>\n",
       "      <td>0.050010</td>\n",
       "      <td>0.072828</td>\n",
       "      <td>0.068371</td>\n",
       "      <td>0.076339</td>\n",
       "      <td>0.061638</td>\n",
       "      <td>0.064145</td>\n",
       "      <td>0.071862</td>\n",
       "      <td>0.077473</td>\n",
       "    </tr>\n",
       "    <tr>\n",
       "      <th>min</th>\n",
       "      <td>1.000888e+07</td>\n",
       "      <td>390382.270000</td>\n",
       "      <td>127956.750000</td>\n",
       "      <td>0.000000</td>\n",
       "      <td>0.000000</td>\n",
       "      <td>0.000000</td>\n",
       "      <td>0.000000</td>\n",
       "      <td>0.000000</td>\n",
       "      <td>0.000000</td>\n",
       "      <td>0.000000</td>\n",
       "      <td>...</td>\n",
       "      <td>0.000000</td>\n",
       "      <td>0.0000</td>\n",
       "      <td>0.000000</td>\n",
       "      <td>0.000000</td>\n",
       "      <td>0.000000</td>\n",
       "      <td>0.000000</td>\n",
       "      <td>0.000000</td>\n",
       "      <td>0.000000</td>\n",
       "      <td>0.000000</td>\n",
       "      <td>0.000000</td>\n",
       "    </tr>\n",
       "    <tr>\n",
       "      <th>25%</th>\n",
       "      <td>2.105307e+07</td>\n",
       "      <td>397243.780000</td>\n",
       "      <td>136362.480000</td>\n",
       "      <td>0.000000</td>\n",
       "      <td>0.000000</td>\n",
       "      <td>0.000000</td>\n",
       "      <td>0.000000</td>\n",
       "      <td>0.000000</td>\n",
       "      <td>0.000000</td>\n",
       "      <td>0.000000</td>\n",
       "      <td>...</td>\n",
       "      <td>0.000000</td>\n",
       "      <td>0.0000</td>\n",
       "      <td>0.000000</td>\n",
       "      <td>0.000000</td>\n",
       "      <td>0.000000</td>\n",
       "      <td>0.000000</td>\n",
       "      <td>0.000000</td>\n",
       "      <td>0.000000</td>\n",
       "      <td>0.000000</td>\n",
       "      <td>0.000000</td>\n",
       "    </tr>\n",
       "    <tr>\n",
       "      <th>50%</th>\n",
       "      <td>2.110258e+07</td>\n",
       "      <td>398921.540000</td>\n",
       "      <td>137774.000000</td>\n",
       "      <td>0.000000</td>\n",
       "      <td>0.000000</td>\n",
       "      <td>0.000000</td>\n",
       "      <td>0.000000</td>\n",
       "      <td>0.000000</td>\n",
       "      <td>0.000000</td>\n",
       "      <td>0.000000</td>\n",
       "      <td>...</td>\n",
       "      <td>0.000000</td>\n",
       "      <td>0.0000</td>\n",
       "      <td>0.000000</td>\n",
       "      <td>0.000000</td>\n",
       "      <td>0.000000</td>\n",
       "      <td>0.000000</td>\n",
       "      <td>0.000000</td>\n",
       "      <td>0.000000</td>\n",
       "      <td>0.000000</td>\n",
       "      <td>0.000000</td>\n",
       "    </tr>\n",
       "    <tr>\n",
       "      <th>75%</th>\n",
       "      <td>2.114868e+07</td>\n",
       "      <td>401135.800000</td>\n",
       "      <td>139565.760000</td>\n",
       "      <td>1.000000</td>\n",
       "      <td>1.000000</td>\n",
       "      <td>0.000000</td>\n",
       "      <td>0.000000</td>\n",
       "      <td>0.000000</td>\n",
       "      <td>0.000000</td>\n",
       "      <td>0.000000</td>\n",
       "      <td>...</td>\n",
       "      <td>0.000000</td>\n",
       "      <td>0.0000</td>\n",
       "      <td>0.000000</td>\n",
       "      <td>0.000000</td>\n",
       "      <td>0.000000</td>\n",
       "      <td>0.000000</td>\n",
       "      <td>0.000000</td>\n",
       "      <td>0.000000</td>\n",
       "      <td>0.000000</td>\n",
       "      <td>0.000000</td>\n",
       "    </tr>\n",
       "    <tr>\n",
       "      <th>max</th>\n",
       "      <td>9.915749e+07</td>\n",
       "      <td>407806.750917</td>\n",
       "      <td>147365.030000</td>\n",
       "      <td>1.000000</td>\n",
       "      <td>1.000000</td>\n",
       "      <td>1.000000</td>\n",
       "      <td>1.000000</td>\n",
       "      <td>1.000000</td>\n",
       "      <td>1.000000</td>\n",
       "      <td>1.000000</td>\n",
       "      <td>...</td>\n",
       "      <td>1.000000</td>\n",
       "      <td>1.0000</td>\n",
       "      <td>1.000000</td>\n",
       "      <td>1.000000</td>\n",
       "      <td>1.000000</td>\n",
       "      <td>1.000000</td>\n",
       "      <td>1.000000</td>\n",
       "      <td>1.000000</td>\n",
       "      <td>1.000000</td>\n",
       "      <td>1.000000</td>\n",
       "    </tr>\n",
       "  </tbody>\n",
       "</table>\n",
       "<p>8 rows × 162 columns</p>\n",
       "</div>"
      ],
      "text/plain": [
       "                CCN         XBLOCK         YBLOCK     SHIFT_DAY  \\\n",
       "count  2.831900e+04   28319.000000   28319.000000  28319.000000   \n",
       "mean   2.110956e+07  399263.408155  137774.252200      0.389844   \n",
       "std    4.872598e+05    3013.914258    3296.580087      0.487723   \n",
       "min    1.000888e+07  390382.270000  127956.750000      0.000000   \n",
       "25%    2.105307e+07  397243.780000  136362.480000      0.000000   \n",
       "50%    2.110258e+07  398921.540000  137774.000000      0.000000   \n",
       "75%    2.114868e+07  401135.800000  139565.760000      1.000000   \n",
       "max    9.915749e+07  407806.750917  147365.030000      1.000000   \n",
       "\n",
       "       SHIFT_EVENING  SHIFT_MIDNIGHT  OFFENSE_ARSON  \\\n",
       "count   28319.000000    28319.000000   28319.000000   \n",
       "mean        0.428687        0.181468       0.000141   \n",
       "std         0.494897        0.385412       0.011884   \n",
       "min         0.000000        0.000000       0.000000   \n",
       "25%         0.000000        0.000000       0.000000   \n",
       "50%         0.000000        0.000000       0.000000   \n",
       "75%         1.000000        0.000000       0.000000   \n",
       "max         1.000000        1.000000       1.000000   \n",
       "\n",
       "       OFFENSE_ASSAULT W/DANGEROUS WEAPON  OFFENSE_BURGLARY  OFFENSE_HOMICIDE  \\\n",
       "count                        28319.000000      28319.000000      28319.000000   \n",
       "mean                             0.058865          0.041421          0.007910   \n",
       "std                              0.235376          0.199265          0.088587   \n",
       "min                              0.000000          0.000000          0.000000   \n",
       "25%                              0.000000          0.000000          0.000000   \n",
       "50%                              0.000000          0.000000          0.000000   \n",
       "75%                              0.000000          0.000000          0.000000   \n",
       "max                              1.000000          1.000000          1.000000   \n",
       "\n",
       "       ...  VOTING_PRECINCT_Precinct 90  VOTING_PRECINCT_Precinct 91  \\\n",
       "count  ...                 28319.000000                   28319.0000   \n",
       "mean   ...                     0.007769                       0.0113   \n",
       "std    ...                     0.087798                       0.1057   \n",
       "min    ...                     0.000000                       0.0000   \n",
       "25%    ...                     0.000000                       0.0000   \n",
       "50%    ...                     0.000000                       0.0000   \n",
       "75%    ...                     0.000000                       0.0000   \n",
       "max    ...                     1.000000                       1.0000   \n",
       "\n",
       "       VOTING_PRECINCT_Precinct 92  VOTING_PRECINCT_Precinct 93  \\\n",
       "count                 28319.000000                 28319.000000   \n",
       "mean                      0.002507                     0.005332   \n",
       "std                       0.050010                     0.072828   \n",
       "min                       0.000000                     0.000000   \n",
       "25%                       0.000000                     0.000000   \n",
       "50%                       0.000000                     0.000000   \n",
       "75%                       0.000000                     0.000000   \n",
       "max                       1.000000                     1.000000   \n",
       "\n",
       "       VOTING_PRECINCT_Precinct 94  VOTING_PRECINCT_Precinct 95  \\\n",
       "count                 28319.000000                 28319.000000   \n",
       "mean                      0.004696                     0.005862   \n",
       "std                       0.068371                     0.076339   \n",
       "min                       0.000000                     0.000000   \n",
       "25%                       0.000000                     0.000000   \n",
       "50%                       0.000000                     0.000000   \n",
       "75%                       0.000000                     0.000000   \n",
       "max                       1.000000                     1.000000   \n",
       "\n",
       "       VOTING_PRECINCT_Precinct 96  VOTING_PRECINCT_Precinct 97  \\\n",
       "count                 28319.000000                 28319.000000   \n",
       "mean                      0.003814                     0.004132   \n",
       "std                       0.061638                     0.064145   \n",
       "min                       0.000000                     0.000000   \n",
       "25%                       0.000000                     0.000000   \n",
       "50%                       0.000000                     0.000000   \n",
       "75%                       0.000000                     0.000000   \n",
       "max                       1.000000                     1.000000   \n",
       "\n",
       "       VOTING_PRECINCT_Precinct 98  VOTING_PRECINCT_Precinct 99  \n",
       "count                 28319.000000                 28319.000000  \n",
       "mean                      0.005191                     0.006038  \n",
       "std                       0.071862                     0.077473  \n",
       "min                       0.000000                     0.000000  \n",
       "25%                       0.000000                     0.000000  \n",
       "50%                       0.000000                     0.000000  \n",
       "75%                       0.000000                     0.000000  \n",
       "max                       1.000000                     1.000000  \n",
       "\n",
       "[8 rows x 162 columns]"
      ]
     },
     "execution_count": 47,
     "metadata": {},
     "output_type": "execute_result"
    }
   ],
   "source": [
    "X.describe()"
   ]
  },
  {
   "cell_type": "code",
   "execution_count": 48,
   "id": "afe86df1",
   "metadata": {},
   "outputs": [
    {
     "data": {
      "text/plain": [
       "NON-VIOLENT    25471\n",
       "VIOLENT         2848\n",
       "Name: crimetype, dtype: int64"
      ]
     },
     "execution_count": 48,
     "metadata": {},
     "output_type": "execute_result"
    }
   ],
   "source": [
    "# check balance of target values\n",
    "y.value_counts()"
   ]
  },
  {
   "cell_type": "code",
   "execution_count": 49,
   "id": "c68ad2b9",
   "metadata": {},
   "outputs": [
    {
     "name": "stdout",
     "output_type": "stream",
     "text": [
      "Counter({'NON-VIOLENT': 19105, 'VIOLENT': 2134})\n",
      "Counter({'NON-VIOLENT': 6366, 'VIOLENT': 714})\n"
     ]
    }
   ],
   "source": [
    "#train data\n",
    "from sklearn.model_selection import train_test_split\n",
    "X_train, X_test, y_train, y_test = train_test_split(X, y, random_state=1)\n",
    "print(Counter(y_train))\n",
    "print(Counter(y_test))"
   ]
  },
  {
   "cell_type": "code",
   "execution_count": 50,
   "id": "d18e1de9",
   "metadata": {},
   "outputs": [],
   "source": [
    "# Resample the training data with the BalancedRandomForestClassifier\n",
    "from imblearn.ensemble import BalancedRandomForestClassifier\n",
    "brf = BalancedRandomForestClassifier(n_estimators=100, random_state=1)\n",
    "\n",
    "brf.fit(X_train, y_train)\n",
    "y_pred = brf.predict(X_test)"
   ]
  },
  {
   "cell_type": "code",
   "execution_count": 51,
   "id": "6b581afb",
   "metadata": {},
   "outputs": [
    {
     "data": {
      "text/plain": [
       "1.0"
      ]
     },
     "execution_count": 51,
     "metadata": {},
     "output_type": "execute_result"
    }
   ],
   "source": [
    "#Calculate balanced accuracy score\n",
    "balanced_accuracy_score(y_test,y_pred)"
   ]
  },
  {
   "cell_type": "code",
   "execution_count": 52,
   "id": "3a0f198c",
   "metadata": {},
   "outputs": [
    {
     "data": {
      "text/plain": [
       "array([[6366,    0],\n",
       "       [   0,  714]], dtype=int64)"
      ]
     },
     "execution_count": 52,
     "metadata": {},
     "output_type": "execute_result"
    }
   ],
   "source": [
    "#confusion matrix\n",
    "y_pred = brf.predict(X_test)\n",
    "confusion_matrix(y_test, y_pred)"
   ]
  },
  {
   "cell_type": "code",
   "execution_count": 53,
   "id": "191eea64",
   "metadata": {},
   "outputs": [
    {
     "name": "stdout",
     "output_type": "stream",
     "text": [
      "                   pre       rec       spe        f1       geo       iba       sup\n",
      "\n",
      "NON-VIOLENT       1.00      1.00      1.00      1.00      1.00      1.00      6366\n",
      "    VIOLENT       1.00      1.00      1.00      1.00      1.00      1.00       714\n",
      "\n",
      "avg / total       1.00      1.00      1.00      1.00      1.00      1.00      7080\n",
      "\n"
     ]
    }
   ],
   "source": [
    "# Print the imbalanced classification report\n",
    "\n",
    "\n",
    "print(classification_report_imbalanced(y_test, y_pred))"
   ]
  },
  {
   "cell_type": "code",
   "execution_count": 54,
   "id": "07ad5335",
   "metadata": {},
   "outputs": [
    {
     "data": {
      "text/plain": [
       "[(0.3890727336091676, 'METHOD_OTHERS'),\n",
       " (0.18733450630729112, 'METHOD_GUN'),\n",
       " (0.09558901595098689, 'OFFENSE_ASSAULT W/DANGEROUS WEAPON'),\n",
       " (0.06326754661916084, 'OFFENSE_ROBBERY'),\n",
       " (0.059332015389940686, 'OFFENSE_THEFT/OTHER'),\n",
       " (0.05046287927591319, 'METHOD_KNIFE'),\n",
       " (0.04608769655084668, 'OFFENSE_THEFT F/AUTO'),\n",
       " (0.017557278042008167, 'SHIFT_MIDNIGHT'),\n",
       " (0.015379245075566534, 'OFFENSE_MOTOR VEHICLE THEFT'),\n",
       " (0.01413588578441478, 'YBLOCK'),\n",
       " (0.013556009498988265, 'XBLOCK'),\n",
       " (0.011551292419157094, 'SHIFT_DAY'),\n",
       " (0.006546977989388578, 'OFFENSE_HOMICIDE'),\n",
       " (0.005557719585518751, 'OFFENSE_BURGLARY'),\n",
       " (0.005370525882141713, 'CCN'),\n",
       " (0.0016572107551719084, 'SHIFT_EVENING'),\n",
       " (0.0009421298412214495, 'VOTING_PRECINCT_Precinct 129'),\n",
       " (0.000822304498472612, 'OFFENSE_SEX ABUSE'),\n",
       " (0.0006947493629366092, 'VOTING_PRECINCT_Precinct 121'),\n",
       " (0.0005157763046530443, 'VOTING_PRECINCT_Precinct 17'),\n",
       " (0.0004322384137176203, 'VOTING_PRECINCT_Precinct 134'),\n",
       " (0.0004132096091321633, 'VOTING_PRECINCT_Precinct 6'),\n",
       " (0.00039860476169079257, 'VOTING_PRECINCT_Precinct 125'),\n",
       " (0.0003698555875357244, 'VOTING_PRECINCT_Precinct 114'),\n",
       " (0.00033408635538461587, 'VOTING_PRECINCT_Precinct 5'),\n",
       " (0.00031780237790449123, 'VOTING_PRECINCT_Precinct 39'),\n",
       " (0.00027710594348149967, 'VOTING_PRECINCT_Precinct 120'),\n",
       " (0.00027102069444225665, 'VOTING_PRECINCT_Precinct 16'),\n",
       " (0.0002641244769773544, 'VOTING_PRECINCT_Precinct 102'),\n",
       " (0.0002586163336514968, 'VOTING_PRECINCT_Precinct 76'),\n",
       " (0.00023409362263981362, 'VOTING_PRECINCT_Precinct 132'),\n",
       " (0.00023297895145917434, 'VOTING_PRECINCT_Precinct 122'),\n",
       " (0.00023268778299262273, 'VOTING_PRECINCT_Precinct 111'),\n",
       " (0.00023172299293979304, 'VOTING_PRECINCT_Precinct 107'),\n",
       " (0.00022459850749089014, 'VOTING_PRECINCT_Precinct 83'),\n",
       " (0.00021851274272173795, 'VOTING_PRECINCT_Precinct 14'),\n",
       " (0.00021280319901861587, 'VOTING_PRECINCT_Precinct 119'),\n",
       " (0.00021169166245887515, 'VOTING_PRECINCT_Precinct 72'),\n",
       " (0.00020853317304732284, 'VOTING_PRECINCT_Precinct 110'),\n",
       " (0.00020761698155841705, 'VOTING_PRECINCT_Precinct 93'),\n",
       " (0.00020467213735831893, 'VOTING_PRECINCT_Precinct 75'),\n",
       " (0.00019912482456281553, 'VOTING_PRECINCT_Precinct 116'),\n",
       " (0.00019735069984489568, 'VOTING_PRECINCT_Precinct 117'),\n",
       " (0.0001968034767411447, 'VOTING_PRECINCT_Precinct 80'),\n",
       " (0.00019318281247321048, 'VOTING_PRECINCT_Precinct 19'),\n",
       " (0.00019232992922596132, 'VOTING_PRECINCT_Precinct 141'),\n",
       " (0.00016931027798686822, 'VOTING_PRECINCT_Precinct 41'),\n",
       " (0.0001530015189057903, 'VOTING_PRECINCT_Precinct 128'),\n",
       " (0.00015185650006620035, 'VOTING_PRECINCT_Precinct 131'),\n",
       " (0.00014748940422351596, 'VOTING_PRECINCT_Precinct 144'),\n",
       " (0.0001465222803612627, 'VOTING_PRECINCT_Precinct 91'),\n",
       " (0.00014066113904833105, 'VOTING_PRECINCT_Precinct 96'),\n",
       " (0.0001390682229440549, 'VOTING_PRECINCT_Precinct 37'),\n",
       " (0.0001363232310935213, 'VOTING_PRECINCT_Precinct 105'),\n",
       " (0.0001329976486603965, 'VOTING_PRECINCT_Precinct 124'),\n",
       " (0.00012767725833105265, 'VOTING_PRECINCT_Precinct 113'),\n",
       " (0.00012704511955673178, 'VOTING_PRECINCT_Precinct 126'),\n",
       " (0.00012587774328461475, 'VOTING_PRECINCT_Precinct 140'),\n",
       " (0.00012530043041963733, 'VOTING_PRECINCT_Precinct 103'),\n",
       " (0.0001241835334695664, 'VOTING_PRECINCT_Precinct 106'),\n",
       " (0.00012352434756863145, 'VOTING_PRECINCT_Precinct 22'),\n",
       " (0.00012139894469389022, 'VOTING_PRECINCT_Precinct 143'),\n",
       " (0.0001202957697546689, 'VOTING_PRECINCT_Precinct 100'),\n",
       " (0.00011774354110924368, 'VOTING_PRECINCT_Precinct 15'),\n",
       " (0.00011641882427658016, 'VOTING_PRECINCT_Precinct 90'),\n",
       " (0.00011315573707208625, 'VOTING_PRECINCT_Precinct 118'),\n",
       " (0.00011312443812778352, 'VOTING_PRECINCT_Precinct 87'),\n",
       " (0.0001122587800284126, 'VOTING_PRECINCT_Precinct 81'),\n",
       " (0.00011155476094301348, 'VOTING_PRECINCT_Precinct 58'),\n",
       " (0.00011076464949714109, 'VOTING_PRECINCT_Precinct 101'),\n",
       " (0.00011042649063096689, 'VOTING_PRECINCT_Precinct 98'),\n",
       " (0.00010715237158021468, 'VOTING_PRECINCT_Precinct 43'),\n",
       " (0.00010676964586142944, 'VOTING_PRECINCT_Precinct 82'),\n",
       " (0.00010573769902643145, 'VOTING_PRECINCT_Precinct 123'),\n",
       " (0.00010283619905767028, 'VOTING_PRECINCT_Precinct 32'),\n",
       " (0.00010032476193172976, 'VOTING_PRECINCT_Precinct 95'),\n",
       " (9.997471165358025e-05, 'VOTING_PRECINCT_Precinct 38'),\n",
       " (9.990753380708854e-05, 'VOTING_PRECINCT_Precinct 73'),\n",
       " (9.532636145351504e-05, 'VOTING_PRECINCT_Precinct 59'),\n",
       " (8.734625155456277e-05, 'VOTING_PRECINCT_Precinct 4'),\n",
       " (8.695110594979636e-05, 'VOTING_PRECINCT_Precinct 1'),\n",
       " (8.540061925891635e-05, 'VOTING_PRECINCT_Precinct 25'),\n",
       " (8.531068582261317e-05, 'VOTING_PRECINCT_Precinct 137'),\n",
       " (8.3337968670463e-05, 'VOTING_PRECINCT_Precinct 127'),\n",
       " (8.204668796719754e-05, 'VOTING_PRECINCT_Precinct 56'),\n",
       " (8.199323577013734e-05, 'VOTING_PRECINCT_Precinct 63'),\n",
       " (7.960659715521304e-05, 'VOTING_PRECINCT_Precinct 34'),\n",
       " (7.93249390573328e-05, 'VOTING_PRECINCT_Precinct 71'),\n",
       " (7.881306667822308e-05, 'VOTING_PRECINCT_Precinct 79'),\n",
       " (7.676688990083603e-05, 'VOTING_PRECINCT_Precinct 21'),\n",
       " (7.668084881304016e-05, 'VOTING_PRECINCT_Precinct 48'),\n",
       " (7.637991430003383e-05, 'VOTING_PRECINCT_Precinct 112'),\n",
       " (7.635695943907155e-05, 'VOTING_PRECINCT_Precinct 24'),\n",
       " (7.533503599980567e-05, 'VOTING_PRECINCT_Precinct 18'),\n",
       " (7.462554534196593e-05, 'VOTING_PRECINCT_Precinct 3'),\n",
       " (7.208164719555449e-05, 'VOTING_PRECINCT_Precinct 36'),\n",
       " (7.159507401529167e-05, 'VOTING_PRECINCT_Precinct 40'),\n",
       " (7.064373081015193e-05, 'VOTING_PRECINCT_Precinct 142'),\n",
       " (6.998013125692317e-05, 'VOTING_PRECINCT_Precinct 55'),\n",
       " (6.993477312921718e-05, 'VOTING_PRECINCT_Precinct 74'),\n",
       " (6.896669878907889e-05, 'VOTING_PRECINCT_Precinct 89'),\n",
       " (6.765215802680546e-05, 'VOTING_PRECINCT_Precinct 85'),\n",
       " (6.69181395053532e-05, 'VOTING_PRECINCT_Precinct 77'),\n",
       " (6.002506758426561e-05, 'VOTING_PRECINCT_Precinct 65'),\n",
       " (5.515632839324534e-05, 'VOTING_PRECINCT_Precinct 44'),\n",
       " (5.491696937550338e-05, 'VOTING_PRECINCT_Precinct 45'),\n",
       " (5.438814016606809e-05, 'VOTING_PRECINCT_Precinct 30'),\n",
       " (5.371576509537422e-05, 'VOTING_PRECINCT_Precinct 139'),\n",
       " (5.2853793769758416e-05, 'VOTING_PRECINCT_Precinct 115'),\n",
       " (5.263967458003407e-05, 'VOTING_PRECINCT_Precinct 88'),\n",
       " (5.2397245780441646e-05, 'VOTING_PRECINCT_Precinct 62'),\n",
       " (5.205788548262946e-05, 'VOTING_PRECINCT_Precinct 46'),\n",
       " (5.167413343667169e-05, 'VOTING_PRECINCT_Precinct 31'),\n",
       " (5.0403615795326764e-05, 'VOTING_PRECINCT_Precinct 133'),\n",
       " (4.9121193496359085e-05, 'VOTING_PRECINCT_Precinct 138'),\n",
       " (4.82427485016375e-05, 'VOTING_PRECINCT_Precinct 54'),\n",
       " (4.741161832283645e-05, 'VOTING_PRECINCT_Precinct 84'),\n",
       " (4.7006772672132145e-05, 'VOTING_PRECINCT_Precinct 35'),\n",
       " (4.6121056786635996e-05, 'VOTING_PRECINCT_Precinct 69'),\n",
       " (4.6003558909197725e-05, 'VOTING_PRECINCT_Precinct 66'),\n",
       " (4.482362779506613e-05, 'VOTING_PRECINCT_Precinct 23'),\n",
       " (4.477186467926271e-05, 'VOTING_PRECINCT_Precinct 99'),\n",
       " (4.461965311965163e-05, 'VOTING_PRECINCT_Precinct 108'),\n",
       " (4.421135124432364e-05, 'VOTING_PRECINCT_Precinct 130'),\n",
       " (4.287450512182591e-05, 'VOTING_PRECINCT_Precinct 61'),\n",
       " (4.2104607470140395e-05, 'VOTING_PRECINCT_Precinct 97'),\n",
       " (4.1574806823732274e-05, 'VOTING_PRECINCT_Precinct 57'),\n",
       " (4.097109783504579e-05, 'VOTING_PRECINCT_Precinct 78'),\n",
       " (4.067775303893346e-05, 'VOTING_PRECINCT_Precinct 68'),\n",
       " (3.926650669896625e-05, 'VOTING_PRECINCT_Precinct 47'),\n",
       " (3.8634551206033436e-05, 'VOTING_PRECINCT_Precinct 2'),\n",
       " (3.852984983358817e-05, 'VOTING_PRECINCT_Precinct 94'),\n",
       " (3.8385341213582026e-05, 'VOTING_PRECINCT_Precinct 60'),\n",
       " (3.601383893783681e-05, 'VOTING_PRECINCT_Precinct 20'),\n",
       " (3.5465314018938057e-05, 'VOTING_PRECINCT_Precinct 92'),\n",
       " (3.3405187021034275e-05, 'VOTING_PRECINCT_Precinct 67'),\n",
       " (3.330404294515654e-05, 'VOTING_PRECINCT_Precinct 104'),\n",
       " (3.2997165092203074e-05, 'VOTING_PRECINCT_Precinct 33'),\n",
       " (3.290576598269554e-05, 'VOTING_PRECINCT_Precinct 42'),\n",
       " (3.2567885142079215e-05, 'VOTING_PRECINCT_Precinct 135'),\n",
       " (3.125258413961545e-05, 'VOTING_PRECINCT_Precinct 49'),\n",
       " (3.038752251282696e-05, 'VOTING_PRECINCT_Precinct 70'),\n",
       " (2.8968937291245443e-05, 'VOTING_PRECINCT_Precinct 109'),\n",
       " (2.8353243355479083e-05, 'VOTING_PRECINCT_Precinct 53'),\n",
       " (2.71702706955709e-05, 'VOTING_PRECINCT_Precinct 8'),\n",
       " (2.601987276355894e-05, 'VOTING_PRECINCT_Precinct 11'),\n",
       " (2.4189380806672144e-05, 'VOTING_PRECINCT_Precinct 28'),\n",
       " (2.2598813989767228e-05, 'VOTING_PRECINCT_Precinct 86'),\n",
       " (1.9520952746270186e-05, 'VOTING_PRECINCT_Precinct 64'),\n",
       " (1.9387389274604063e-05, 'VOTING_PRECINCT_Precinct 27'),\n",
       " (1.8475706257120652e-05, 'VOTING_PRECINCT_Precinct 26'),\n",
       " (7.798054747942667e-06, 'VOTING_PRECINCT_Precinct 7'),\n",
       " (6.649133243285983e-06, 'VOTING_PRECINCT_Precinct 12'),\n",
       " (6.208535646178034e-06, 'VOTING_PRECINCT_Precinct 13'),\n",
       " (1.0657314435153366e-06, 'VOTING_PRECINCT_Precinct 29'),\n",
       " (3.806774668760345e-07, 'VOTING_PRECINCT_Precinct 10'),\n",
       " (2.603499474176058e-07, 'VOTING_PRECINCT_Precinct 9'),\n",
       " (1.3018277832888848e-07, 'VOTING_PRECINCT_Precinct 52'),\n",
       " (1.6721859481713742e-08, 'VOTING_PRECINCT_Precinct 136'),\n",
       " (2.8143481248414513e-10, 'VOTING_PRECINCT_Precinct 51'),\n",
       " (0.0, 'VOTING_PRECINCT_Precinct 50'),\n",
       " (0.0, 'OFFENSE_ARSON')]"
      ]
     },
     "execution_count": 54,
     "metadata": {},
     "output_type": "execute_result"
    }
   ],
   "source": [
    "importances = brf.feature_importances_\n",
    "sorted(zip(brf.feature_importances_, X.columns), reverse=True)"
   ]
  },
  {
   "cell_type": "code",
   "execution_count": null,
   "id": "109a8476",
   "metadata": {},
   "outputs": [],
   "source": []
  }
 ],
 "metadata": {
  "kernelspec": {
   "display_name": "mlenv",
   "language": "python",
   "name": "mlenv"
  },
  "language_info": {
   "codemirror_mode": {
    "name": "ipython",
    "version": 3
   },
   "file_extension": ".py",
   "mimetype": "text/x-python",
   "name": "python",
   "nbconvert_exporter": "python",
   "pygments_lexer": "ipython3",
   "version": "3.7.13"
  }
 },
 "nbformat": 4,
 "nbformat_minor": 5
}
